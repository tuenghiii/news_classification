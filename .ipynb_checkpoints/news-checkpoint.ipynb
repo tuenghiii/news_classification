{
 "cells": [
  {
   "cell_type": "markdown",
   "metadata": {},
   "source": [
    "# 1. Chuẩn bị thư viện và dữ liệu - Data Preparation"
   ]
  },
  {
   "cell_type": "markdown",
   "metadata": {},
   "source": [
    "## 1.1. Import các thư viện cần thiết"
   ]
  },
  {
   "cell_type": "code",
   "execution_count": 1,
   "metadata": {},
   "outputs": [
    {
     "name": "stderr",
     "output_type": "stream",
     "text": [
      "Using TensorFlow backend.\n"
     ]
    }
   ],
   "source": [
    "import string\n",
    "\n",
    "import numpy  as np\n",
    "import pandas as pd\n",
    "from matplotlib                      import pyplot as plt\n",
    "import joblib\n",
    "\n",
    "from sklearn.model_selection         import train_test_split\n",
    "from sklearn.preprocessing           import LabelEncoder\n",
    "from sklearn.feature_extraction.text import CountVectorizer, TfidfTransformer\n",
    "from sklearn.naive_bayes             import ComplementNB\n",
    "from sklearn.tree                    import DecisionTreeClassifier\n",
    "from sklearn.metrics                 import classification_report\n",
    "from underthesea                     import word_tokenize\n",
    "\n",
    "from keras.models                    import Sequential\n",
    "from keras.layers                    import Dense\n",
    "import tensorflow as tf\n",
    "\n",
    "from utils                           import plot_confusion_matrix\n",
    "\n",
    "tf.get_logger().setLevel('ERROR')\n",
    "np.random.seed(8)\n",
    "%matplotlib inline"
   ]
  },
  {
   "cell_type": "markdown",
   "metadata": {},
   "source": [
    "## 1.2. Đọc dữ liệu chính"
   ]
  },
  {
   "cell_type": "markdown",
   "metadata": {},
   "source": [
    "Đọc và kiểm tra dữ liệu từ file excel:"
   ]
  },
  {
   "cell_type": "code",
   "execution_count": 2,
   "metadata": {},
   "outputs": [
    {
     "data": {
      "text/html": [
       "<div>\n",
       "<style scoped>\n",
       "    .dataframe tbody tr th:only-of-type {\n",
       "        vertical-align: middle;\n",
       "    }\n",
       "\n",
       "    .dataframe tbody tr th {\n",
       "        vertical-align: top;\n",
       "    }\n",
       "\n",
       "    .dataframe thead th {\n",
       "        text-align: right;\n",
       "    }\n",
       "</style>\n",
       "<table border=\"1\" class=\"dataframe\">\n",
       "  <thead>\n",
       "    <tr style=\"text-align: right;\">\n",
       "      <th></th>\n",
       "      <th>index</th>\n",
       "      <th>Bài Báo</th>\n",
       "      <th>Phân Loại</th>\n",
       "    </tr>\n",
       "  </thead>\n",
       "  <tbody>\n",
       "    <tr>\n",
       "      <th>0</th>\n",
       "      <td>0</td>\n",
       "      <td>Đoàn Văn Hậu: ‘Bóng đá ở Hà Lan khác Việt Nam’...</td>\n",
       "      <td>Thể Thao</td>\n",
       "    </tr>\n",
       "    <tr>\n",
       "      <th>1</th>\n",
       "      <td>1</td>\n",
       "      <td>Lương Xuân Trường rời đội tuyển Việt Nam\\n Chấ...</td>\n",
       "      <td>Thể Thao</td>\n",
       "    </tr>\n",
       "  </tbody>\n",
       "</table>\n",
       "</div>"
      ],
      "text/plain": [
       "    index                                            Bài Báo Phân Loại\n",
       "0       0  Đoàn Văn Hậu: ‘Bóng đá ở Hà Lan khác Việt Nam’...  Thể Thao\n",
       "1       1  Lương Xuân Trường rời đội tuyển Việt Nam\\n Chấ...  Thể Thao"
      ]
     },
     "execution_count": 2,
     "metadata": {},
     "output_type": "execute_result"
    }
   ],
   "source": [
    "df = pd.read_excel(io = 'Data_PhanLoaiTinTuc.xlsx')\n",
    "df.head(2)"
   ]
  },
  {
   "cell_type": "markdown",
   "metadata": {},
   "source": [
    "Chọn ra những cột cần thiết, lưu lại ở dạng csv và kiểm tra lại:"
   ]
  },
  {
   "cell_type": "code",
   "execution_count": 3,
   "metadata": {},
   "outputs": [
    {
     "data": {
      "text/html": [
       "<div>\n",
       "<style scoped>\n",
       "    .dataframe tbody tr th:only-of-type {\n",
       "        vertical-align: middle;\n",
       "    }\n",
       "\n",
       "    .dataframe tbody tr th {\n",
       "        vertical-align: top;\n",
       "    }\n",
       "\n",
       "    .dataframe thead th {\n",
       "        text-align: right;\n",
       "    }\n",
       "</style>\n",
       "<table border=\"1\" class=\"dataframe\">\n",
       "  <thead>\n",
       "    <tr style=\"text-align: right;\">\n",
       "      <th></th>\n",
       "      <th>Bài Báo</th>\n",
       "      <th>Phân Loại</th>\n",
       "    </tr>\n",
       "  </thead>\n",
       "  <tbody>\n",
       "    <tr>\n",
       "      <th>0</th>\n",
       "      <td>Đoàn Văn Hậu: ‘Bóng đá ở Hà Lan khác Việt Nam’...</td>\n",
       "      <td>Thể Thao</td>\n",
       "    </tr>\n",
       "    <tr>\n",
       "      <th>1</th>\n",
       "      <td>Lương Xuân Trường rời đội tuyển Việt Nam\\n Chấ...</td>\n",
       "      <td>Thể Thao</td>\n",
       "    </tr>\n",
       "  </tbody>\n",
       "</table>\n",
       "</div>"
      ],
      "text/plain": [
       "                                             Bài Báo Phân Loại\n",
       "0  Đoàn Văn Hậu: ‘Bóng đá ở Hà Lan khác Việt Nam’...  Thể Thao\n",
       "1  Lương Xuân Trường rời đội tuyển Việt Nam\\n Chấ...  Thể Thao"
      ]
     },
     "execution_count": 3,
     "metadata": {},
     "output_type": "execute_result"
    }
   ],
   "source": [
    "df = df[['Bài Báo','Phân Loại']]\n",
    "df.to_csv('news_classification.csv', index=False)\n",
    "df = pd.read_csv('news_classification.csv')\n",
    "df.head(2)"
   ]
  },
  {
   "cell_type": "markdown",
   "metadata": {},
   "source": [
    "Kiểm tra số hàng và số cột trong bộ dữ liệu mới:"
   ]
  },
  {
   "cell_type": "code",
   "execution_count": 4,
   "metadata": {},
   "outputs": [
    {
     "name": "stdout",
     "output_type": "stream",
     "text": [
      "400 hàng và 2 cột\n"
     ]
    }
   ],
   "source": [
    "print(f\"{df.shape[0]} hàng và {df.shape[1]} cột\")"
   ]
  },
  {
   "cell_type": "markdown",
   "metadata": {},
   "source": [
    "## 1.3. Chuẩn bị danh sách stopwords"
   ]
  },
  {
   "cell_type": "code",
   "execution_count": 5,
   "metadata": {},
   "outputs": [
    {
     "name": "stdout",
     "output_type": "stream",
     "text": [
      "a lô\n",
      "a ha\n",
      "ai\n",
      "ai ai\n",
      "ai nấy\n"
     ]
    }
   ],
   "source": [
    "with open('vietnamese-stopwords.txt','r') as file:\n",
    "    vn_stopwords = file.read()\n",
    "    \n",
    "# In ví dụ 25 ký tự đầu tiên trong file vừa đọc\n",
    "print(vn_stopwords[:25])"
   ]
  },
  {
   "cell_type": "markdown",
   "metadata": {},
   "source": [
    "Đưa danh sách ở dạng string về dạng list sau đó bổ  thêm sung danh sách các dấu câu vào stopwords:"
   ]
  },
  {
   "cell_type": "code",
   "execution_count": 6,
   "metadata": {},
   "outputs": [
    {
     "name": "stdout",
     "output_type": "stream",
     "text": [
      "Số stopwords trong danh sách: 1987\n"
     ]
    }
   ],
   "source": [
    "vn_stopwords       = list(vn_stopwords.split(\"\\n\"))\n",
    "\n",
    "punctuations       = string.punctuation # bao gồm: '!\"#$%&\\'()*+,-./:;<=>?@[\\\\]^_`{|}~'\n",
    "vn_stopwords      += punctuations\n",
    "\n",
    "more_punctuations  = ['...','–', '‘', '’', '“', '”', '•', '…','—','―','€','≥',' ']\n",
    "vn_stopwords      += more_punctuations\n",
    "print('Số stopwords trong danh sách:',len(vn_stopwords))"
   ]
  },
  {
   "cell_type": "markdown",
   "metadata": {},
   "source": [
    "# 2. Phân tách dữ liệu - Train-test split"
   ]
  },
  {
   "cell_type": "markdown",
   "metadata": {},
   "source": [
    "Xác định feature và label phù hợp với yêu cầu:"
   ]
  },
  {
   "cell_type": "code",
   "execution_count": 7,
   "metadata": {},
   "outputs": [],
   "source": [
    "X = df['Bài Báo']\n",
    "y = df['Phân Loại']"
   ]
  },
  {
   "cell_type": "markdown",
   "metadata": {},
   "source": [
    "Thực hiện train-test split:"
   ]
  },
  {
   "cell_type": "code",
   "execution_count": 8,
   "metadata": {},
   "outputs": [
    {
     "data": {
      "text/plain": [
       "3      Cụ bà 71 tuổi tự phá kỷ lục marathon nhóm tuổi...\n",
       "22     Vô địch Đấu trường Danh vọng 3 lần liên tiếp, ...\n",
       "159    Cần định nghĩa chính xác về các văn bằng\\nGD&T...\n",
       "372    Xuất hiện hình ảnh tivi 55 inch mang thương hi...\n",
       "210    10 căn bệnh do đột biến gen phổ biến thường gặ...\n",
       "216    Thực đơn Keto ăn kiêng chữa bệnh\\nMỸPhương phá...\n",
       "268    Bảo Uyên - học trò Mỹ Tâm (The Voice 2015) bất...\n",
       "114    Trước 30/9, hoàn tất việc thẩm định sách giáo ...\n",
       "398    Lịch sử điện toán đám mây\\nĐể thảo luận các vấ...\n",
       "80     Một trường có 3 học sinh đạt giải cao nhất quố...\n",
       "Name: Bài Báo, dtype: object"
      ]
     },
     "execution_count": 8,
     "metadata": {},
     "output_type": "execute_result"
    }
   ],
   "source": [
    "X_train, X_test, y_train, y_test = train_test_split(X, y, test_size=0.125, random_state=7)\n",
    "X_train.head(10)"
   ]
  },
  {
   "cell_type": "markdown",
   "metadata": {},
   "source": [
    "Kiểm tra số phần tử lần lượt trong mỗi biến:"
   ]
  },
  {
   "cell_type": "code",
   "execution_count": 9,
   "metadata": {},
   "outputs": [
    {
     "name": "stdout",
     "output_type": "stream",
     "text": [
      "(350,) (350,) (50,) (50,)\n"
     ]
    }
   ],
   "source": [
    "print(X_train.shape, y_train.shape, X_test.shape, y_test.shape)"
   ]
  },
  {
   "cell_type": "code",
   "execution_count": 10,
   "metadata": {},
   "outputs": [
    {
     "data": {
      "image/png": "[encoded data removed]",
      "text/plain": [
       "<Figure size 432x288 with 1 Axes>"
      ]
     },
     "metadata": {
      "needs_background": "light"
     },
     "output_type": "display_data"
    },
    {
     "data": {
      "image/png": "[encoded data removed]",
      "text/plain": [
       "<Figure size 432x288 with 1 Axes>"
      ]
     },
     "metadata": {
      "needs_background": "light"
     },
     "output_type": "display_data"
    }
   ],
   "source": [
    "y_train.value_counts().plot.barh(title='Số  mẫu trong mỗi class ở tập train')\n",
    "plt.show()\n",
    "\n",
    "y_test.value_counts().plot.barh(title='Số  mẫu trong mỗi class ở tập test')\n",
    "plt.show()"
   ]
  },
  {
   "cell_type": "markdown",
   "metadata": {},
   "source": [
    "Qua biểu đồ trên, ta thấy hàm train_test_split trong trường hợp này phân chia số  mẫu khá đều giữa các lớp ở cả tập train lẫn tập test"
   ]
  },
  {
   "cell_type": "markdown",
   "metadata": {},
   "source": [
    "# 3.Tiền xử lý dữ liệu - Preprocessing data"
   ]
  },
  {
   "cell_type": "markdown",
   "metadata": {},
   "source": [
    "## 3.1. Tokenization"
   ]
  },
  {
   "cell_type": "markdown",
   "metadata": {},
   "source": [
    "Bộ thư viện underthesea hỗ trợ tokenize câu văn tiếng Việt khá tốt. Ta kiểm tra kết quả thông qua 1 đoạn văn bên dưới:"
   ]
  },
  {
   "cell_type": "code",
   "execution_count": 11,
   "metadata": {},
   "outputs": [
    {
     "name": "stdout",
     "output_type": "stream",
     "text": [
      "['Đoàn Văn Hậu', ':', '‘', 'Bóng đá', 'ở', 'Hà Lan', 'khác', 'Việt Nam', '’', 'Hậu vệ', 'Đoàn Văn Hậu', 'đang', 'từng', 'bước', 'thích ứng', 'với', 'cách', 'chơi', 'bóng', 'tại', 'Heerenveen SC', ',', 'và', 'tin', 'anh', 'sẽ', 'sớm', 'được', 'trao', 'cơ hội', 'ở', 'giải', 'vô địch', 'Hà Lan', '.', '\"', 'Cách', 'vận hành', 'lối', 'chơi', 'ở', 'Hà Lan', 'khác', 'Việt Nam', '. Dù', 'có', 'bóng', 'hay', 'không', ',', 'các', 'cầu thủ', 'đều', 'phải', 'di chuyển', 'nhanh', 'và', 'liên tục', '.', 'HLV', 'cũng', 'yêu cầu', 'các', 'cầu thủ', 'phải', 'nắm', 'chiến thuật', 'nhuần nhuyễn', ',', 'thực hiện', 'chuẩn xác', 'từng', 'chút', 'một', 'trên', 'sân', '\"', ',', 'Đoàn Văn Hậu', 'chia sẻ', 'với', 'VnExpress', 'hôm nay', '1/10', '.', 'Đoàn Văn Hậu', 'đầu quân', 'cho', 'Heerenveen', 'theo', 'bản', 'hợp đồng', 'cho', 'mượn', 'có', 'thời hạn', 'một', 'năm', 'từ', 'CLB', 'Hà Nội', ',', 'với', 'mức', 'lương', '22.000', 'USD', 'mỗi', 'tháng', '.', 'Hậu vệ', 'quê', 'Thái Bình', 'đã', 'tập luyện', 'cùng', 'đội', 'bóng', 'mới', 'được', 'gần', 'hai', 'tuần', 'nhưng', 'chưa', 'có', 'cơ hội', 'ra mắt', 'giải', 'vô địch', 'quốc gia', 'Hà Lan', ',', 'dù', 'góp mặt', 'trong', 'danh sách', 'đăng ký', 'thi đấu', 'ở', 'trận', 'hòa 1-1', 'với', 'Utrecht', 'và', 'thắng', 'VVV Venlo', '3-0', '.', 'Tuy nhiên', ',', 'Văn Hậu', 'đã', 'được', 'trải nghiệm', 'cảm giác', 'thi đấu', 'ở', 'Hà Lan', 'khi', 'được', 'HLV', 'Johnny Jensen', 'cho', 'đá', 'chính', 'ở', 'đội', 'trẻ', ',', 'trong', 'trận', 'đấu', 'với', 'Feyenoord', 'và', 'Heracles Almelo', '.', '\"', 'Dù', 'chưa', 'được', 'vào', 'sân', 'ở', 'giải', 'vô địch', 'quốc gia', ',', 'tôi', 'vẫn', 'cảm thấy', 'rất', 'thoải mái', ',', 'không', 'chịu', 'bất cứ', 'áp lực', 'nào', '.', 'Tất cả', 'các', 'cầu thủ', 'mới', 'đều', 'cần', 'thời gian', 'thích nghi', 'với', 'triết lý', 'của', 'ban', 'huấn luyện', '.', 'Cách', 'dùng', 'người', 'của', 'HLV', 'hiện tại', 'sẽ', 'giúp ích', 'cho', 'tôi', 'rất', 'nhiều', '\"', ',', 'Đoàn Văn Hậu', 'nói', 'thêm', '.', '\"', 'Tôi', 'biết', 'người', 'hâm mộ', 'rất', 'kỳ vọng', 'vào', 'việc', 'tôi', 'được', 'thi đấu', '.', 'Nhưng', 'mong', 'mọi', 'người', 'hãy', 'kiên nhẫn', ',', 'và', 'hành xử', 'văn minh', 'trên', 'trang', 'mạng', 'xã hội', 'của', 'Heerenveen SC.', 'Tôi', 'sẽ', 'cố gắng', 'hết sức', 'mình', ',', 'không', 'làm', 'người', 'hâm mộ', 'Việt Nam', 'thất vọng', '\"', '. Văn Hậu', 'cho', 'biết', 'sẽ', 'tập luyện', 'chăm chỉ', ',', 'tận dụng', 'tối đa', 'cơ hội', 'khi', 'đá', 'cho', 'đội', 'trẻ', 'Heerenveen', '.', 'Anh', 'tin', 'rằng', 'trong', 'tương lai', 'gần', 'bản thân', 'sẽ', 'được', 'trải nghiệm', 'cảm giác', 'thi đấu', 'ở', 'giải', 'vô địch', 'quốc gia', 'Hà Lan', '.', '\"', 'CLB', 'giúp đỡ', 'tôi', 'rất', 'nhiều', ',', 'các', 'đồng đội', 'cũng', 'chào đón', 'nồng nhiệt', '.', 'Vì vậy', 'tôi', 'không', 'gặp', 'trục trặc', 'gì', 'khi', 'đến', 'Hà Lan', '.', 'Hiện tại', 'tôi', 'cảm giác', 'mình', 'hòa nhập', 'nhanh', 'với', 'Heerenveen', '\"', ',', 'Văn Hậu', 'vui vẻ', 'nói', '.', 'Hậu vệ sinh', 'năm', '1999', 'cho', 'hay', 'vấn đề', 'duy nhất', 'là', 'ngoại ngữ', 'chưa', 'giỏi', '.', 'Tuy nhiên', ',', 'nhà', 'vô địch', 'AFF Cup', '2018', 'tin', 'rằng', 'điều', 'đó', 'sẽ', 'sớm', 'được', 'giải quyết', 'bởi', 'anh', 'đang', 'tích cực', 'học', 'tiếng', 'Anh', '.']\n"
     ]
    }
   ],
   "source": [
    "tok_result = word_tokenize(X_train[0])\n",
    "print(tok_result)"
   ]
  },
  {
   "cell_type": "markdown",
   "metadata": {},
   "source": [
    "## 3.2. tf-idf"
   ]
  },
  {
   "cell_type": "markdown",
   "metadata": {},
   "source": [
    "- CountVectorizer là chuyển câu thành ma trận các chữ và số lần xuất hiện các chữ đó trong câu.\n",
    "- Tfidf transformer là dựa vào ma trận từ count vectorizer, biến thành ma trận tf idf"
   ]
  },
  {
   "cell_type": "code",
   "execution_count": 12,
   "metadata": {},
   "outputs": [
    {
     "name": "stderr",
     "output_type": "stream",
     "text": [
      "/home/dhp/DATA/.conda/envs/ds/lib/python3.7/site-packages/sklearn/feature_extraction/text.py:301: UserWarning: Your stop_words may be inconsistent with your preprocessing. Tokenizing the stop words generated tokens ['a', 'bao', 'bất', 'bất ý', 'bập', 'chi', 'chí', 'chót', 'chưng', 'chẳng', 'chết', 'chừng', 'coi', 'câu', 'cóc', 'cạnh', 'cảm', 'cật', 'cắt', 'cực', 'da', 'giời', 'hiện', 'hầu', 'hẳn', 'khô', 'kì', 'kỳ', 'lí', 'lô', 'lý', 'lẽ', 'lị', 'mày', 'mòi', 'mấy', 'mẹ', 'ngõ', 'nhiên', 'nhược', 'nhỡ', 'nỗi', 'phương', 'sợ', 'sức', 'thiên địa', 'thành', 'thái', 'thảo', 'thảy', 'thử', 'thực', 'tiếp', 'tiệt', 'trời đất', 'tuốt', 'tuồn tuột', 'tuồng', 'tàn', 'tàn tán', 'tán', 'tề', 'tỏ', 'tức', 'vung', 'ví', 'vô', 'vạn', 'vả', 'vẻ', 'xuất', 'xảy', 'xửa', 'âu', 'ô', 'ôi', 'đi', 'đành', 'đánh', 'đáo', 'đùng', 'đạch', 'đại', 'ối'] not in stop_words.\n",
      "  'stop_words.' % sorted(inconsistent))\n"
     ]
    }
   ],
   "source": [
    "count_vect     = CountVectorizer(\n",
    "    lowercase  = True, \n",
    "    tokenizer  = word_tokenize, \n",
    "    stop_words = vn_stopwords,\n",
    ")\n",
    "X_train_cv = count_vect.fit_transform(X_train)\n",
    "\n",
    "trans_vect = TfidfTransformer()\n",
    "X_train_tr = trans_vect.fit_transform(X_train_cv).toarray()"
   ]
  },
  {
   "cell_type": "markdown",
   "metadata": {},
   "source": [
    "## 3.3. Tinh chỉnh và đánh giá kết quả của tf-idf"
   ]
  },
  {
   "cell_type": "markdown",
   "metadata": {},
   "source": [
    "### 3.3.1. Tinh chỉnh tham số của tf-idf"
   ]
  },
  {
   "cell_type": "markdown",
   "metadata": {},
   "source": [
    "Kết quả chạy ở trên sẽ đưa ra một UserWarning rằng có những từ còn thiếu trong stopwords có sẽ có thể làm mất ổn định việc preprocess data sau này. Ta khắc phục vấn đề này bằng cách bổ sung những từ trong warning trên vào lại danh sách stopwords và chạy lại các bước preprocessing."
   ]
  },
  {
   "cell_type": "code",
   "execution_count": 13,
   "metadata": {},
   "outputs": [
    {
     "name": "stdout",
     "output_type": "stream",
     "text": [
      "Số stopwords trong danh sách: 2073\n"
     ]
    }
   ],
   "source": [
    "stopwords_from_corpus = ['trời', 'đất', 'a', 'bao', 'bất', 'bất ý', 'bập', 'chi', 'chí', 'chót', 'chưng', \n",
    "                         'chẳng', 'chết', 'chừng', 'coi', 'câu', 'cóc', 'cạnh', 'cảm', 'cật', 'cắt', \n",
    "                         'cực', 'da', 'giời', 'hiện', 'hầu', 'hẳn', 'khô', 'kì', 'kỳ', 'lí', 'lô', 'lý', \n",
    "                         'lẽ', 'lị', 'mày', 'mòi', 'mấy', 'mẹ', 'ngõ', 'nhiên', 'nhược', 'nhỡ', 'nỗi', \n",
    "                         'phương', 'sợ', 'sức', 'thiên địa', 'thành', 'thái', 'thảo', 'thảy', 'thử', \n",
    "                         'thực', 'tiếp', 'tiệt', 'trời đất', 'tuốt', 'tuồn tuột', 'tuồng', 'tàn', 'tàn tán', \n",
    "                         'tán', 'tề', 'tỏ', 'tức', 'vung', 'ví', 'vô', 'vạn', 'vả', 'vẻ', 'xuất', 'xảy', \n",
    "                         'xửa', 'âu', 'ô', 'ôi', 'đi', 'đành', 'đánh', 'đáo', 'đùng', 'đạch', 'đại', 'ối']\n",
    "vn_stopwords += stopwords_from_corpus\n",
    "print('Số stopwords trong danh sách:',len(vn_stopwords))"
   ]
  },
  {
   "cell_type": "markdown",
   "metadata": {},
   "source": [
    "Ta tính tổng số lần xuất hiện của từng từ được tokenized trong X_train, sau đó vẽ kết quả đếm ra"
   ]
  },
  {
   "cell_type": "code",
   "execution_count": 14,
   "metadata": {},
   "outputs": [
    {
     "data": {
      "image/png": "[encoded data removed]",
      "text/plain": [
       "<Figure size 432x288 with 1 Axes>"
      ]
     },
     "metadata": {
      "needs_background": "light"
     },
     "output_type": "display_data"
    }
   ],
   "source": [
    "pd.Series(np.sum(X_train_cv.toarray(),axis=0)).hist(bins=700)\n",
    "plt.xlim([1,10])\n",
    "plt.show()"
   ]
  },
  {
   "cell_type": "markdown",
   "metadata": {},
   "source": [
    "Những từ xuất hiện chỉ 1 lần trong toàn bộ văn bản có số lượng khá nhiều (khoảng 5500 từ) và thường được coi là không có ý nghĩa nhiều cho việc phân loại.\n",
    "Cùng với đó, ta cũng xem những từ xuất hiện ở hơn 90% văn bản là không cần thiết.\n",
    "Từ đó ta chọn ra 2 thông số ` min_df = 2` và `max_df = 0.9`"
   ]
  },
  {
   "cell_type": "code",
   "execution_count": 15,
   "metadata": {},
   "outputs": [
    {
     "name": "stdout",
     "output_type": "stream",
     "text": [
      "kích thước: (350, 5673)\n"
     ]
    },
    {
     "data": {
      "text/plain": [
       "array([[0., 0., 0., ..., 0., 0., 0.],\n",
       "       [0., 0., 0., ..., 0., 0., 0.],\n",
       "       [0., 0., 0., ..., 0., 0., 0.],\n",
       "       ...,\n",
       "       [0., 0., 0., ..., 0., 0., 0.],\n",
       "       [0., 0., 0., ..., 0., 0., 0.],\n",
       "       [0., 0., 0., ..., 0., 0., 0.]])"
      ]
     },
     "execution_count": 15,
     "metadata": {},
     "output_type": "execute_result"
    }
   ],
   "source": [
    "count_vect = CountVectorizer(\n",
    "    lowercase  = True, \n",
    "    tokenizer  = word_tokenize, \n",
    "    stop_words = vn_stopwords,\n",
    "    min_df     = 2,\n",
    "    max_df     = 0.9,\n",
    ")\n",
    "X_train_cv = count_vect.fit_transform(X_train)\n",
    "\n",
    "trans_vect = TfidfTransformer()\n",
    "X_train_tr = trans_vect.fit_transform(X_train_cv).toarray()\n",
    "\n",
    "# Xem kích thước và nội dung bên trong feature đã được xử lý\n",
    "print(\"kích thước:\", X_train_tr.shape)\n",
    "X_train_tr"
   ]
  },
  {
   "cell_type": "markdown",
   "metadata": {},
   "source": [
    "### 3.3.2. Đánh giá kết quả của tf-idf"
   ]
  },
  {
   "cell_type": "markdown",
   "metadata": {},
   "source": [
    "Ta tạo ra một bảng tạm `tf_idf_df` chứa cột cuối cùng là `class`. Mục đích là để  chuẩn bị cho việc kiểm tra xem liệu các từ có điểm số tf-idf cao nhất trong mỗi class (loại tin tức) có thật sự phù hợp với class đó không"
   ]
  },
  {
   "cell_type": "code",
   "execution_count": 16,
   "metadata": {},
   "outputs": [
    {
     "data": {
      "text/html": [
       "<div>\n",
       "<style scoped>\n",
       "    .dataframe tbody tr th:only-of-type {\n",
       "        vertical-align: middle;\n",
       "    }\n",
       "\n",
       "    .dataframe tbody tr th {\n",
       "        vertical-align: top;\n",
       "    }\n",
       "\n",
       "    .dataframe thead th {\n",
       "        text-align: right;\n",
       "    }\n",
       "</style>\n",
       "<table border=\"1\" class=\"dataframe\">\n",
       "  <thead>\n",
       "    <tr style=\"text-align: right;\">\n",
       "      <th></th>\n",
       "      <th>. ban</th>\n",
       "      <th>. kỳ</th>\n",
       "      <th>. liệu</th>\n",
       "      <th>. lượng</th>\n",
       "      <th>. độ</th>\n",
       "      <th>. ủy ban</th>\n",
       "      <th>0</th>\n",
       "      <th>01</th>\n",
       "      <th>02</th>\n",
       "      <th>03</th>\n",
       "      <th>...</th>\n",
       "      <th>ức chế</th>\n",
       "      <th>ứng</th>\n",
       "      <th>ứng cứu</th>\n",
       "      <th>ứng dụng</th>\n",
       "      <th>ứng phó</th>\n",
       "      <th>ứng tuyển</th>\n",
       "      <th>ứng viên</th>\n",
       "      <th>ứng xử</th>\n",
       "      <th>​</th>\n",
       "      <th>class</th>\n",
       "    </tr>\n",
       "  </thead>\n",
       "  <tbody>\n",
       "    <tr>\n",
       "      <th>0</th>\n",
       "      <td>0.0</td>\n",
       "      <td>0.0</td>\n",
       "      <td>0.0</td>\n",
       "      <td>0.0</td>\n",
       "      <td>0.000000</td>\n",
       "      <td>0.0</td>\n",
       "      <td>0.0</td>\n",
       "      <td>0.0</td>\n",
       "      <td>0.0</td>\n",
       "      <td>0.0</td>\n",
       "      <td>...</td>\n",
       "      <td>0.000000</td>\n",
       "      <td>0.000000</td>\n",
       "      <td>0.0</td>\n",
       "      <td>0.00000</td>\n",
       "      <td>0.0</td>\n",
       "      <td>0.0</td>\n",
       "      <td>0.000000</td>\n",
       "      <td>0.0</td>\n",
       "      <td>0.0</td>\n",
       "      <td>Thể Thao</td>\n",
       "    </tr>\n",
       "    <tr>\n",
       "      <th>1</th>\n",
       "      <td>0.0</td>\n",
       "      <td>0.0</td>\n",
       "      <td>0.0</td>\n",
       "      <td>0.0</td>\n",
       "      <td>0.000000</td>\n",
       "      <td>0.0</td>\n",
       "      <td>0.0</td>\n",
       "      <td>0.0</td>\n",
       "      <td>0.0</td>\n",
       "      <td>0.0</td>\n",
       "      <td>...</td>\n",
       "      <td>0.000000</td>\n",
       "      <td>0.000000</td>\n",
       "      <td>0.0</td>\n",
       "      <td>0.00000</td>\n",
       "      <td>0.0</td>\n",
       "      <td>0.0</td>\n",
       "      <td>0.000000</td>\n",
       "      <td>0.0</td>\n",
       "      <td>0.0</td>\n",
       "      <td>Thể Thao</td>\n",
       "    </tr>\n",
       "    <tr>\n",
       "      <th>2</th>\n",
       "      <td>0.0</td>\n",
       "      <td>0.0</td>\n",
       "      <td>0.0</td>\n",
       "      <td>0.0</td>\n",
       "      <td>0.000000</td>\n",
       "      <td>0.0</td>\n",
       "      <td>0.0</td>\n",
       "      <td>0.0</td>\n",
       "      <td>0.0</td>\n",
       "      <td>0.0</td>\n",
       "      <td>...</td>\n",
       "      <td>0.000000</td>\n",
       "      <td>0.052427</td>\n",
       "      <td>0.0</td>\n",
       "      <td>0.00000</td>\n",
       "      <td>0.0</td>\n",
       "      <td>0.0</td>\n",
       "      <td>0.000000</td>\n",
       "      <td>0.0</td>\n",
       "      <td>0.0</td>\n",
       "      <td>Giáo Dục</td>\n",
       "    </tr>\n",
       "    <tr>\n",
       "      <th>3</th>\n",
       "      <td>0.0</td>\n",
       "      <td>0.0</td>\n",
       "      <td>0.0</td>\n",
       "      <td>0.0</td>\n",
       "      <td>0.053298</td>\n",
       "      <td>0.0</td>\n",
       "      <td>0.0</td>\n",
       "      <td>0.0</td>\n",
       "      <td>0.0</td>\n",
       "      <td>0.0</td>\n",
       "      <td>...</td>\n",
       "      <td>0.000000</td>\n",
       "      <td>0.000000</td>\n",
       "      <td>0.0</td>\n",
       "      <td>0.02825</td>\n",
       "      <td>0.0</td>\n",
       "      <td>0.0</td>\n",
       "      <td>0.000000</td>\n",
       "      <td>0.0</td>\n",
       "      <td>0.0</td>\n",
       "      <td>Công Nghệ</td>\n",
       "    </tr>\n",
       "    <tr>\n",
       "      <th>4</th>\n",
       "      <td>0.0</td>\n",
       "      <td>0.0</td>\n",
       "      <td>0.0</td>\n",
       "      <td>0.0</td>\n",
       "      <td>0.000000</td>\n",
       "      <td>0.0</td>\n",
       "      <td>0.0</td>\n",
       "      <td>0.0</td>\n",
       "      <td>0.0</td>\n",
       "      <td>0.0</td>\n",
       "      <td>...</td>\n",
       "      <td>0.000000</td>\n",
       "      <td>0.000000</td>\n",
       "      <td>0.0</td>\n",
       "      <td>0.00000</td>\n",
       "      <td>0.0</td>\n",
       "      <td>0.0</td>\n",
       "      <td>0.000000</td>\n",
       "      <td>0.0</td>\n",
       "      <td>0.0</td>\n",
       "      <td>Sức Khỏe</td>\n",
       "    </tr>\n",
       "    <tr>\n",
       "      <th>...</th>\n",
       "      <td>...</td>\n",
       "      <td>...</td>\n",
       "      <td>...</td>\n",
       "      <td>...</td>\n",
       "      <td>...</td>\n",
       "      <td>...</td>\n",
       "      <td>...</td>\n",
       "      <td>...</td>\n",
       "      <td>...</td>\n",
       "      <td>...</td>\n",
       "      <td>...</td>\n",
       "      <td>...</td>\n",
       "      <td>...</td>\n",
       "      <td>...</td>\n",
       "      <td>...</td>\n",
       "      <td>...</td>\n",
       "      <td>...</td>\n",
       "      <td>...</td>\n",
       "      <td>...</td>\n",
       "      <td>...</td>\n",
       "      <td>...</td>\n",
       "    </tr>\n",
       "    <tr>\n",
       "      <th>345</th>\n",
       "      <td>0.0</td>\n",
       "      <td>0.0</td>\n",
       "      <td>0.0</td>\n",
       "      <td>0.0</td>\n",
       "      <td>0.000000</td>\n",
       "      <td>0.0</td>\n",
       "      <td>0.0</td>\n",
       "      <td>0.0</td>\n",
       "      <td>0.0</td>\n",
       "      <td>0.0</td>\n",
       "      <td>...</td>\n",
       "      <td>0.000000</td>\n",
       "      <td>0.000000</td>\n",
       "      <td>0.0</td>\n",
       "      <td>0.00000</td>\n",
       "      <td>0.0</td>\n",
       "      <td>0.0</td>\n",
       "      <td>0.000000</td>\n",
       "      <td>0.0</td>\n",
       "      <td>0.0</td>\n",
       "      <td>Sức Khỏe</td>\n",
       "    </tr>\n",
       "    <tr>\n",
       "      <th>346</th>\n",
       "      <td>0.0</td>\n",
       "      <td>0.0</td>\n",
       "      <td>0.0</td>\n",
       "      <td>0.0</td>\n",
       "      <td>0.000000</td>\n",
       "      <td>0.0</td>\n",
       "      <td>0.0</td>\n",
       "      <td>0.0</td>\n",
       "      <td>0.0</td>\n",
       "      <td>0.0</td>\n",
       "      <td>...</td>\n",
       "      <td>0.000000</td>\n",
       "      <td>0.000000</td>\n",
       "      <td>0.0</td>\n",
       "      <td>0.00000</td>\n",
       "      <td>0.0</td>\n",
       "      <td>0.0</td>\n",
       "      <td>0.064227</td>\n",
       "      <td>0.0</td>\n",
       "      <td>0.0</td>\n",
       "      <td>Thể Thao</td>\n",
       "    </tr>\n",
       "    <tr>\n",
       "      <th>347</th>\n",
       "      <td>0.0</td>\n",
       "      <td>0.0</td>\n",
       "      <td>0.0</td>\n",
       "      <td>0.0</td>\n",
       "      <td>0.000000</td>\n",
       "      <td>0.0</td>\n",
       "      <td>0.0</td>\n",
       "      <td>0.0</td>\n",
       "      <td>0.0</td>\n",
       "      <td>0.0</td>\n",
       "      <td>...</td>\n",
       "      <td>0.000000</td>\n",
       "      <td>0.000000</td>\n",
       "      <td>0.0</td>\n",
       "      <td>0.00000</td>\n",
       "      <td>0.0</td>\n",
       "      <td>0.0</td>\n",
       "      <td>0.000000</td>\n",
       "      <td>0.0</td>\n",
       "      <td>0.0</td>\n",
       "      <td>Thể Thao</td>\n",
       "    </tr>\n",
       "    <tr>\n",
       "      <th>348</th>\n",
       "      <td>0.0</td>\n",
       "      <td>0.0</td>\n",
       "      <td>0.0</td>\n",
       "      <td>0.0</td>\n",
       "      <td>0.000000</td>\n",
       "      <td>0.0</td>\n",
       "      <td>0.0</td>\n",
       "      <td>0.0</td>\n",
       "      <td>0.0</td>\n",
       "      <td>0.0</td>\n",
       "      <td>...</td>\n",
       "      <td>0.020507</td>\n",
       "      <td>0.000000</td>\n",
       "      <td>0.0</td>\n",
       "      <td>0.00000</td>\n",
       "      <td>0.0</td>\n",
       "      <td>0.0</td>\n",
       "      <td>0.000000</td>\n",
       "      <td>0.0</td>\n",
       "      <td>0.0</td>\n",
       "      <td>Sức Khỏe</td>\n",
       "    </tr>\n",
       "    <tr>\n",
       "      <th>349</th>\n",
       "      <td>0.0</td>\n",
       "      <td>0.0</td>\n",
       "      <td>0.0</td>\n",
       "      <td>0.0</td>\n",
       "      <td>0.000000</td>\n",
       "      <td>0.0</td>\n",
       "      <td>0.0</td>\n",
       "      <td>0.0</td>\n",
       "      <td>0.0</td>\n",
       "      <td>0.0</td>\n",
       "      <td>...</td>\n",
       "      <td>0.000000</td>\n",
       "      <td>0.000000</td>\n",
       "      <td>0.0</td>\n",
       "      <td>0.00000</td>\n",
       "      <td>0.0</td>\n",
       "      <td>0.0</td>\n",
       "      <td>0.000000</td>\n",
       "      <td>0.0</td>\n",
       "      <td>0.0</td>\n",
       "      <td>Sức Khỏe</td>\n",
       "    </tr>\n",
       "  </tbody>\n",
       "</table>\n",
       "<p>350 rows × 5674 columns</p>\n",
       "</div>"
      ],
      "text/plain": [
       "     . ban  . kỳ  . liệu  . lượng      . độ  . ủy ban    0   01   02   03  \\\n",
       "0      0.0   0.0     0.0      0.0  0.000000       0.0  0.0  0.0  0.0  0.0   \n",
       "1      0.0   0.0     0.0      0.0  0.000000       0.0  0.0  0.0  0.0  0.0   \n",
       "2      0.0   0.0     0.0      0.0  0.000000       0.0  0.0  0.0  0.0  0.0   \n",
       "3      0.0   0.0     0.0      0.0  0.053298       0.0  0.0  0.0  0.0  0.0   \n",
       "4      0.0   0.0     0.0      0.0  0.000000       0.0  0.0  0.0  0.0  0.0   \n",
       "..     ...   ...     ...      ...       ...       ...  ...  ...  ...  ...   \n",
       "345    0.0   0.0     0.0      0.0  0.000000       0.0  0.0  0.0  0.0  0.0   \n",
       "346    0.0   0.0     0.0      0.0  0.000000       0.0  0.0  0.0  0.0  0.0   \n",
       "347    0.0   0.0     0.0      0.0  0.000000       0.0  0.0  0.0  0.0  0.0   \n",
       "348    0.0   0.0     0.0      0.0  0.000000       0.0  0.0  0.0  0.0  0.0   \n",
       "349    0.0   0.0     0.0      0.0  0.000000       0.0  0.0  0.0  0.0  0.0   \n",
       "\n",
       "     ...    ức chế       ứng  ứng cứu  ứng dụng  ứng phó  ứng tuyển  ứng viên  \\\n",
       "0    ...  0.000000  0.000000      0.0   0.00000      0.0        0.0  0.000000   \n",
       "1    ...  0.000000  0.000000      0.0   0.00000      0.0        0.0  0.000000   \n",
       "2    ...  0.000000  0.052427      0.0   0.00000      0.0        0.0  0.000000   \n",
       "3    ...  0.000000  0.000000      0.0   0.02825      0.0        0.0  0.000000   \n",
       "4    ...  0.000000  0.000000      0.0   0.00000      0.0        0.0  0.000000   \n",
       "..   ...       ...       ...      ...       ...      ...        ...       ...   \n",
       "345  ...  0.000000  0.000000      0.0   0.00000      0.0        0.0  0.000000   \n",
       "346  ...  0.000000  0.000000      0.0   0.00000      0.0        0.0  0.064227   \n",
       "347  ...  0.000000  0.000000      0.0   0.00000      0.0        0.0  0.000000   \n",
       "348  ...  0.020507  0.000000      0.0   0.00000      0.0        0.0  0.000000   \n",
       "349  ...  0.000000  0.000000      0.0   0.00000      0.0        0.0  0.000000   \n",
       "\n",
       "     ứng xử    ​      class  \n",
       "0       0.0  0.0   Thể Thao  \n",
       "1       0.0  0.0   Thể Thao  \n",
       "2       0.0  0.0   Giáo Dục  \n",
       "3       0.0  0.0  Công Nghệ  \n",
       "4       0.0  0.0   Sức Khỏe  \n",
       "..      ...  ...        ...  \n",
       "345     0.0  0.0   Sức Khỏe  \n",
       "346     0.0  0.0   Thể Thao  \n",
       "347     0.0  0.0   Thể Thao  \n",
       "348     0.0  0.0   Sức Khỏe  \n",
       "349     0.0  0.0   Sức Khỏe  \n",
       "\n",
       "[350 rows x 5674 columns]"
      ]
     },
     "execution_count": 16,
     "metadata": {},
     "output_type": "execute_result"
    }
   ],
   "source": [
    "tf_idf_df = pd.DataFrame(X_train_tr,\n",
    "                         columns = count_vect.get_feature_names())\n",
    "tf_idf_df['class'] = y_train.reset_index(drop=True)\n",
    "tf_idf_df"
   ]
  },
  {
   "cell_type": "markdown",
   "metadata": {},
   "source": [
    "10 từ có điểm tf-idf lớn nhất theo thứ tự các class: _Công Nghệ, Giáo Dục, Âm Nhạc, Sức Khỏe, Thể Thao_ :"
   ]
  },
  {
   "cell_type": "code",
   "execution_count": 17,
   "metadata": {},
   "outputs": [
    {
     "data": {
      "text/plain": [
       "công nghệ    3.369814\n",
       "ứng dụng     3.041660\n",
       "google       2.966090\n",
       "apple        2.812515\n",
       "iphone       2.607773\n",
       "dữ liệu      2.602714\n",
       "thông tin    2.592833\n",
       "camera       2.499947\n",
       "5g           2.409251\n",
       "sản phẩm     2.214981\n",
       "Name: Công Nghệ, dtype: float64"
      ]
     },
     "execution_count": 17,
     "metadata": {},
     "output_type": "execute_result"
    }
   ],
   "source": [
    "(tf_idf_df.groupby(by='class').sum()    # lấy tổng tf-idf theo từng class\n",
    "    .loc['Công Nghệ']                   # lọc ra class \"Công Nghệ\"\n",
    "    .sort_values(ascending=False)[:10]) # và lấy 10 giá trị lớn nhất"
   ]
  },
  {
   "cell_type": "code",
   "execution_count": 18,
   "metadata": {},
   "outputs": [
    {
     "data": {
      "text/plain": [
       "thi             8.338151\n",
       "học sinh        7.885532\n",
       "trường          7.105998\n",
       "giáo dục        7.079828\n",
       "học             5.529280\n",
       "đại học         4.189516\n",
       "giáo viên       4.026887\n",
       "chương trình    3.423822\n",
       "thpt            3.397902\n",
       "đào tạo         3.243832\n",
       "Name: Giáo Dục, dtype: float64"
      ]
     },
     "execution_count": 18,
     "metadata": {},
     "output_type": "execute_result"
    }
   ],
   "source": [
    "(tf_idf_df.groupby(by='class').sum()\n",
    "    .loc['Giáo Dục']                \n",
    "    .sort_values(ascending=False)[:10])"
   ]
  },
  {
   "cell_type": "code",
   "execution_count": 19,
   "metadata": {},
   "outputs": [
    {
     "data": {
      "text/plain": [
       "nhạc            5.901466\n",
       "hát             5.023638\n",
       "âm nhạc         4.912900\n",
       "ca sĩ           4.533302\n",
       "nghệ sĩ         3.856854\n",
       "ca khúc         3.753401\n",
       "mv              3.577910\n",
       "khán giả        3.417567\n",
       "chương trình    2.636530\n",
       "việt            2.333072\n",
       "Name: Âm Nhạc, dtype: float64"
      ]
     },
     "execution_count": 19,
     "metadata": {},
     "output_type": "execute_result"
    }
   ],
   "source": [
    "(tf_idf_df.groupby(by='class').sum()\n",
    "    .loc['Âm Nhạc']                \n",
    "    .sort_values(ascending=False)[:10])"
   ]
  },
  {
   "cell_type": "code",
   "execution_count": 20,
   "metadata": {},
   "outputs": [
    {
     "data": {
      "text/plain": [
       "bệnh         8.634091\n",
       "máu          4.670813\n",
       "bệnh nhân    3.702408\n",
       "ung thư      3.604819\n",
       "cơ thể       3.517554\n",
       "viêm         3.209689\n",
       "đau          3.018579\n",
       "điều trị     2.973767\n",
       "bác sĩ       2.910620\n",
       "gan          2.625090\n",
       "Name: Sức Khỏe, dtype: float64"
      ]
     },
     "execution_count": 20,
     "metadata": {},
     "output_type": "execute_result"
    }
   ],
   "source": [
    "(tf_idf_df.groupby(by='class').sum()\n",
    "    .loc['Sức Khỏe']                \n",
    "    .sort_values(ascending=False)[:10])"
   ]
  },
  {
   "cell_type": "code",
   "execution_count": 21,
   "metadata": {},
   "outputs": [
    {
     "data": {
      "text/plain": [
       "giải        4.705161\n",
       "nam         3.869375\n",
       "thi đấu     3.762341\n",
       "trận        3.720186\n",
       "thể thao    3.693080\n",
       "đấu         3.690183\n",
       "môn         3.402379\n",
       "việt        3.278099\n",
       "giành       2.712228\n",
       "bóng        2.709417\n",
       "Name: Thể Thao, dtype: float64"
      ]
     },
     "execution_count": 21,
     "metadata": {},
     "output_type": "execute_result"
    }
   ],
   "source": [
    "(tf_idf_df.groupby(by='class').sum()\n",
    "    .loc['Thể Thao']                \n",
    "    .sort_values(ascending=False)[:10])"
   ]
  },
  {
   "cell_type": "markdown",
   "metadata": {},
   "source": [
    "Ta nhận xét rằng những từ khóa được rút ra từ tf-idf có vẻ khá hợp lý trong từng class, rõ rệt nhất là ở class _Sức Khỏe_, _Giáo Dục_ và _Âm Nhạc_. Tuy nhiên, trong top 10 từ ở class _Thể Thao_ và _Âm Nhạc_ đều xuất hiện từ \"việt\", việc này rất dễ làm cho mô hình Machine Learning về sau bị phân loại sai."
   ]
  },
  {
   "cell_type": "markdown",
   "metadata": {},
   "source": [
    "Ngoài ra, ta còn có thể  xem điểm tf-idf của tất cả các từ trong bộ X_train"
   ]
  },
  {
   "cell_type": "code",
   "execution_count": 22,
   "metadata": {},
   "outputs": [
    {
     "data": {
      "text/html": [
       "<div>\n",
       "<style scoped>\n",
       "    .dataframe tbody tr th:only-of-type {\n",
       "        vertical-align: middle;\n",
       "    }\n",
       "\n",
       "    .dataframe tbody tr th {\n",
       "        vertical-align: top;\n",
       "    }\n",
       "\n",
       "    .dataframe thead th {\n",
       "        text-align: right;\n",
       "    }\n",
       "</style>\n",
       "<table border=\"1\" class=\"dataframe\">\n",
       "  <thead>\n",
       "    <tr style=\"text-align: right;\">\n",
       "      <th></th>\n",
       "      <th>idf_weights</th>\n",
       "    </tr>\n",
       "  </thead>\n",
       "  <tbody>\n",
       "    <tr>\n",
       "      <th>​</th>\n",
       "      <td>5.762174</td>\n",
       "    </tr>\n",
       "    <tr>\n",
       "      <th>elo</th>\n",
       "      <td>5.762174</td>\n",
       "    </tr>\n",
       "    <tr>\n",
       "      <th>elastic</th>\n",
       "      <td>5.762174</td>\n",
       "    </tr>\n",
       "    <tr>\n",
       "      <th>ekiden</th>\n",
       "      <td>5.762174</td>\n",
       "    </tr>\n",
       "    <tr>\n",
       "      <th>educational</th>\n",
       "      <td>5.762174</td>\n",
       "    </tr>\n",
       "    <tr>\n",
       "      <th>...</th>\n",
       "      <td>...</td>\n",
       "    </tr>\n",
       "    <tr>\n",
       "      <th>3</th>\n",
       "      <td>1.870354</td>\n",
       "    </tr>\n",
       "    <tr>\n",
       "      <th>2</th>\n",
       "      <td>1.830348</td>\n",
       "    </tr>\n",
       "    <tr>\n",
       "      <th>việt</th>\n",
       "      <td>1.791882</td>\n",
       "    </tr>\n",
       "    <tr>\n",
       "      <th>hai</th>\n",
       "      <td>1.791882</td>\n",
       "    </tr>\n",
       "    <tr>\n",
       "      <th>nam</th>\n",
       "      <td>1.701731</td>\n",
       "    </tr>\n",
       "  </tbody>\n",
       "</table>\n",
       "<p>5673 rows × 1 columns</p>\n",
       "</div>"
      ],
      "text/plain": [
       "             idf_weights\n",
       "​               5.762174\n",
       "elo             5.762174\n",
       "elastic         5.762174\n",
       "ekiden          5.762174\n",
       "educational     5.762174\n",
       "...                  ...\n",
       "3               1.870354\n",
       "2               1.830348\n",
       "việt            1.791882\n",
       "hai             1.791882\n",
       "nam             1.701731\n",
       "\n",
       "[5673 rows x 1 columns]"
      ]
     },
     "execution_count": 22,
     "metadata": {},
     "output_type": "execute_result"
    }
   ],
   "source": [
    "# print idf values\n",
    "df_idf = pd.DataFrame(trans_vect.idf_, \n",
    "                      index   = count_vect.get_feature_names(),\n",
    "                      columns = [\"idf_weights\"])\n",
    "# sort ascending\n",
    "df_idf.sort_values(by=['idf_weights'],ascending=False)"
   ]
  },
  {
   "cell_type": "markdown",
   "metadata": {},
   "source": [
    "# 4. Tạo mô hình phân loại - Modelling"
   ]
  },
  {
   "cell_type": "markdown",
   "metadata": {},
   "source": [
    "Thực hiện bước preprocessing cho bộ X_test tương tự như cách xử lý trên bộ X_train. Mục đích của việc này là để tiện cho việc đánh giá các mô hình tiếp theo."
   ]
  },
  {
   "cell_type": "code",
   "execution_count": 23,
   "metadata": {},
   "outputs": [
    {
     "name": "stdout",
     "output_type": "stream",
     "text": [
      "(50, 5673)\n"
     ]
    }
   ],
   "source": [
    "X_test_cv = count_vect.transform(X_test)\n",
    "X_test_tr = trans_vect.transform(X_test_cv).toarray()\n",
    "print(X_test_tr.shape)"
   ]
  },
  {
   "cell_type": "markdown",
   "metadata": {},
   "source": [
    "## 4.1. Naive Bayes"
   ]
  },
  {
   "cell_type": "markdown",
   "metadata": {},
   "source": [
    "### 4.1.1. Xây dựng mô hình"
   ]
  },
  {
   "cell_type": "code",
   "execution_count": 24,
   "metadata": {},
   "outputs": [
    {
     "data": {
      "text/plain": [
       "ComplementNB(alpha=1.0, class_prior=None, fit_prior=True, norm=False)"
      ]
     },
     "execution_count": 24,
     "metadata": {},
     "output_type": "execute_result"
    }
   ],
   "source": [
    "nb_clf = ComplementNB()\n",
    "nb_clf.fit(X_train_tr, y_train)"
   ]
  },
  {
   "cell_type": "code",
   "execution_count": 25,
   "metadata": {},
   "outputs": [
    {
     "data": {
      "text/plain": [
       "array(['Âm Nhạc', 'Thể Thao', 'Giáo Dục', 'Giáo Dục', 'Công Nghệ',\n",
       "       'Thể Thao', 'Âm Nhạc', 'Giáo Dục', 'Âm Nhạc', 'Sức Khỏe',\n",
       "       'Thể Thao', 'Âm Nhạc', 'Giáo Dục', 'Công Nghệ', 'Sức Khỏe',\n",
       "       'Công Nghệ', 'Giáo Dục', 'Thể Thao', 'Sức Khỏe', 'Âm Nhạc',\n",
       "       'Thể Thao', 'Giáo Dục', 'Công Nghệ', 'Công Nghệ', 'Thể Thao',\n",
       "       'Âm Nhạc', 'Âm Nhạc', 'Sức Khỏe', 'Sức Khỏe', 'Giáo Dục',\n",
       "       'Sức Khỏe', 'Thể Thao', 'Âm Nhạc', 'Công Nghệ', 'Thể Thao',\n",
       "       'Công Nghệ', 'Thể Thao', 'Sức Khỏe', 'Sức Khỏe', 'Giáo Dục',\n",
       "       'Sức Khỏe', 'Sức Khỏe', 'Âm Nhạc', 'Âm Nhạc', 'Giáo Dục',\n",
       "       'Công Nghệ', 'Giáo Dục', 'Sức Khỏe', 'Thể Thao', 'Thể Thao'],\n",
       "      dtype='<U9')"
      ]
     },
     "execution_count": 25,
     "metadata": {},
     "output_type": "execute_result"
    }
   ],
   "source": [
    "y_pred = nb_clf.predict(X_test_tr)\n",
    "y_pred"
   ]
  },
  {
   "cell_type": "markdown",
   "metadata": {},
   "source": [
    "### 4.1.2. Đánh giá mô hình"
   ]
  },
  {
   "cell_type": "code",
   "execution_count": 26,
   "metadata": {},
   "outputs": [
    {
     "name": "stdout",
     "output_type": "stream",
     "text": [
      "              precision    recall  f1-score   support\n",
      "\n",
      "   Công Nghệ       1.00      0.89      0.94         9\n",
      "    Giáo Dục       1.00      1.00      1.00        10\n",
      "    Sức Khỏe       0.91      1.00      0.95        10\n",
      "    Thể Thao       1.00      1.00      1.00        11\n",
      "     Âm Nhạc       1.00      1.00      1.00        10\n",
      "\n",
      "   micro avg       0.98      0.98      0.98        50\n",
      "   macro avg       0.98      0.98      0.98        50\n",
      "weighted avg       0.98      0.98      0.98        50\n",
      "\n"
     ]
    }
   ],
   "source": [
    "print(classification_report(\n",
    "    y_true = y_test,\n",
    "    y_pred = y_pred,\n",
    "))"
   ]
  },
  {
   "cell_type": "code",
   "execution_count": 27,
   "metadata": {},
   "outputs": [
    {
     "data": {
      "image/png": "[encoded data removed]",
      "text/plain": [
       "<Figure size 864x432 with 2 Axes>"
      ]
     },
     "metadata": {},
     "output_type": "display_data"
    }
   ],
   "source": [
    "plot_confusion_matrix(\n",
    "    y_true = y_test,\n",
    "    y_pred = y_pred,\n",
    ")"
   ]
  },
  {
   "cell_type": "markdown",
   "metadata": {},
   "source": [
    "Từ biểu đồ trên, ta nhận xét thấy rõ hơn được điểm làm cho f1-score ở trên bị thấp là do nhầm một bài báo từ class `Công Nghệ` sang class `Sức Khỏe`. Ta tạo ra một DataFrame lọc ra bài báo trên. Sau đó in nội dung bài đấy ra."
   ]
  },
  {
   "cell_type": "code",
   "execution_count": 28,
   "metadata": {},
   "outputs": [
    {
     "data": {
      "text/html": [
       "<div>\n",
       "<style scoped>\n",
       "    .dataframe tbody tr th:only-of-type {\n",
       "        vertical-align: middle;\n",
       "    }\n",
       "\n",
       "    .dataframe tbody tr th {\n",
       "        vertical-align: top;\n",
       "    }\n",
       "\n",
       "    .dataframe thead th {\n",
       "        text-align: right;\n",
       "    }\n",
       "</style>\n",
       "<table border=\"1\" class=\"dataframe\">\n",
       "  <thead>\n",
       "    <tr style=\"text-align: right;\">\n",
       "      <th></th>\n",
       "      <th>y_true</th>\n",
       "      <th>y_pred</th>\n",
       "      <th>Nội dung bài báo</th>\n",
       "    </tr>\n",
       "  </thead>\n",
       "  <tbody>\n",
       "    <tr>\n",
       "      <th>327</th>\n",
       "      <td>Công Nghệ</td>\n",
       "      <td>Sức Khỏe</td>\n",
       "      <td>Hệ thống AI này sẽ mang lại hy vọng cho 50 tri...</td>\n",
       "    </tr>\n",
       "  </tbody>\n",
       "</table>\n",
       "</div>"
      ],
      "text/plain": [
       "        y_true    y_pred                                   Nội dung bài báo\n",
       "327  Công Nghệ  Sức Khỏe  Hệ thống AI này sẽ mang lại hy vọng cho 50 tri..."
      ]
     },
     "execution_count": 28,
     "metadata": {},
     "output_type": "execute_result"
    }
   ],
   "source": [
    "diff_df = pd.DataFrame({\n",
    "    'y_true':y_test, \n",
    "    'y_pred':y_pred,\n",
    "    'Nội dung bài báo':X_test,\n",
    "})\n",
    "diff_df = diff_df.loc[diff_df['y_true'] != diff_df['y_pred']]\n",
    "diff_df"
   ]
  },
  {
   "cell_type": "code",
   "execution_count": 29,
   "metadata": {},
   "outputs": [
    {
     "name": "stdout",
     "output_type": "stream",
     "text": [
      "Hệ thống AI này sẽ mang lại hy vọng cho 50 triệu bệnh nhân trên toàn thế giới\n",
      "Hai nhà nghiên cứu của Đại học Louisiana (Mỹ) đã phát triển thành công hệ thống trí tuệ nhân tạo có thể dự đoán bệnh động kinh chính xác tới 99,6%.\n",
      "Hệ thống AI của giáo sư Magdy Bayoumi và nhà nghiên cứu Hisham Daoud có thể đưa ra dự đoán chính xác về cơn động kinh. Hệ thống sẽ phân tích hoạt động não bộ trước, trong và sau động kinh, từ đó đưa ra biểu đồ dự báo chính xác.\n",
      "Nghiên cứu này có tầm ảnh hưởng rộng lớn. Hiện thế giới đang có khoảng 50 triệu bệnh nhân mắc chứng bệnh này. Nếu thành công, hệ thống AI của Magdy Bayoumi và Hisham Daoud sẽ là giải pháp cứu cánh.\n",
      "Hiện nhóm nghiên cứu đang tập trung phát triển phần cứng và chipset phù hợp để có thể triển khai toàn diện hệ thống AI. Rất có thể hệ thống này sẽ có kích thước nhỏ gọn như Apple Watch để tiện sử dụng cho bệnh nhân.\n",
      "Tổ chức WHO ước tính cứ 1.000 người lại có 4-10 người mắc chứng liên quan tới động kinh. Theo các nghiên cứu, 70% người mắc chứng động kinh có thể chữa khỏi nếu phát hiện kịp thời.\n",
      "\n"
     ]
    }
   ],
   "source": [
    "print(X_test[327])"
   ]
  },
  {
   "cell_type": "markdown",
   "metadata": {},
   "source": [
    "**Nhận xét**: Qua nội dung, ta thấy bài báo đang nói về công nghệ AI dành cho y khoa, nên đây là một bài giao thoa giữa Công Nghệ và Sức Khỏe, rất khó để con người hay mô hình phân loại chính xác bài báo này."
   ]
  },
  {
   "cell_type": "markdown",
   "metadata": {},
   "source": [
    "## 4.2. Decision tree"
   ]
  },
  {
   "cell_type": "markdown",
   "metadata": {},
   "source": [
    "### 4.2.1. Xây dựng mô hình"
   ]
  },
  {
   "cell_type": "code",
   "execution_count": 30,
   "metadata": {},
   "outputs": [
    {
     "data": {
      "text/plain": [
       "DecisionTreeClassifier(class_weight=None, criterion='gini', max_depth=None,\n",
       "            max_features=None, max_leaf_nodes=None,\n",
       "            min_impurity_decrease=0.0, min_impurity_split=None,\n",
       "            min_samples_leaf=1, min_samples_split=2,\n",
       "            min_weight_fraction_leaf=0.0, presort=False, random_state=25,\n",
       "            splitter='best')"
      ]
     },
     "execution_count": 30,
     "metadata": {},
     "output_type": "execute_result"
    }
   ],
   "source": [
    "tree_clf = DecisionTreeClassifier(random_state=25)\n",
    "tree_clf.fit(X_train_tr, y_train)"
   ]
  },
  {
   "cell_type": "code",
   "execution_count": 31,
   "metadata": {},
   "outputs": [
    {
     "data": {
      "text/plain": [
       "array(['Âm Nhạc', 'Thể Thao', 'Giáo Dục', 'Giáo Dục', 'Công Nghệ',\n",
       "       'Thể Thao', 'Âm Nhạc', 'Giáo Dục', 'Âm Nhạc', 'Sức Khỏe',\n",
       "       'Thể Thao', 'Âm Nhạc', 'Công Nghệ', 'Công Nghệ', 'Sức Khỏe',\n",
       "       'Công Nghệ', 'Thể Thao', 'Thể Thao', 'Sức Khỏe', 'Âm Nhạc',\n",
       "       'Thể Thao', 'Giáo Dục', 'Công Nghệ', 'Giáo Dục', 'Âm Nhạc',\n",
       "       'Âm Nhạc', 'Âm Nhạc', 'Sức Khỏe', 'Giáo Dục', 'Giáo Dục',\n",
       "       'Sức Khỏe', 'Sức Khỏe', 'Âm Nhạc', 'Công Nghệ', 'Thể Thao',\n",
       "       'Công Nghệ', 'Thể Thao', 'Sức Khỏe', 'Sức Khỏe', 'Giáo Dục',\n",
       "       'Sức Khỏe', 'Sức Khỏe', 'Âm Nhạc', 'Âm Nhạc', 'Giáo Dục',\n",
       "       'Công Nghệ', 'Giáo Dục', 'Sức Khỏe', 'Thể Thao', 'Thể Thao'],\n",
       "      dtype=object)"
      ]
     },
     "execution_count": 31,
     "metadata": {},
     "output_type": "execute_result"
    }
   ],
   "source": [
    "y_pred = tree_clf.predict(X_test_tr)\n",
    "y_pred"
   ]
  },
  {
   "cell_type": "markdown",
   "metadata": {},
   "source": [
    "### 4.2.2. Đánh giá mô hình"
   ]
  },
  {
   "cell_type": "code",
   "execution_count": 32,
   "metadata": {},
   "outputs": [
    {
     "name": "stdout",
     "output_type": "stream",
     "text": [
      "              precision    recall  f1-score   support\n",
      "\n",
      "   Công Nghệ       0.88      0.78      0.82         9\n",
      "    Giáo Dục       0.80      0.80      0.80        10\n",
      "    Sức Khỏe       0.82      0.90      0.86        10\n",
      "    Thể Thao       0.90      0.82      0.86        11\n",
      "     Âm Nhạc       0.91      1.00      0.95        10\n",
      "\n",
      "   micro avg       0.86      0.86      0.86        50\n",
      "   macro avg       0.86      0.86      0.86        50\n",
      "weighted avg       0.86      0.86      0.86        50\n",
      "\n"
     ]
    }
   ],
   "source": [
    "print(classification_report(\n",
    "    y_true = y_test,\n",
    "    y_pred = y_pred,\n",
    "))"
   ]
  },
  {
   "cell_type": "code",
   "execution_count": 33,
   "metadata": {},
   "outputs": [
    {
     "data": {
      "image/png": "[encoded data removed]",
      "text/plain": [
       "<Figure size 864x432 with 2 Axes>"
      ]
     },
     "metadata": {},
     "output_type": "display_data"
    }
   ],
   "source": [
    "plot_confusion_matrix(\n",
    "    y_true = y_test,\n",
    "    y_pred = y_pred,\n",
    ")"
   ]
  },
  {
   "cell_type": "code",
   "execution_count": 34,
   "metadata": {},
   "outputs": [
    {
     "data": {
      "text/html": [
       "<div>\n",
       "<style scoped>\n",
       "    .dataframe tbody tr th:only-of-type {\n",
       "        vertical-align: middle;\n",
       "    }\n",
       "\n",
       "    .dataframe tbody tr th {\n",
       "        vertical-align: top;\n",
       "    }\n",
       "\n",
       "    .dataframe thead th {\n",
       "        text-align: right;\n",
       "    }\n",
       "</style>\n",
       "<table border=\"1\" class=\"dataframe\">\n",
       "  <thead>\n",
       "    <tr style=\"text-align: right;\">\n",
       "      <th></th>\n",
       "      <th>y_true</th>\n",
       "      <th>y_pred</th>\n",
       "      <th>Nội dung bài báo</th>\n",
       "    </tr>\n",
       "  </thead>\n",
       "  <tbody>\n",
       "    <tr>\n",
       "      <th>155</th>\n",
       "      <td>Giáo Dục</td>\n",
       "      <td>Công Nghệ</td>\n",
       "      <td>Thay đổi hệ thống chứng chỉ CISCO từ tháng 2/2...</td>\n",
       "    </tr>\n",
       "    <tr>\n",
       "      <th>118</th>\n",
       "      <td>Giáo Dục</td>\n",
       "      <td>Thể Thao</td>\n",
       "      <td>Bộ Giáo dục thanh tra công tác tuyển sinh của ...</td>\n",
       "    </tr>\n",
       "    <tr>\n",
       "      <th>327</th>\n",
       "      <td>Công Nghệ</td>\n",
       "      <td>Sức Khỏe</td>\n",
       "      <td>Hệ thống AI này sẽ mang lại hy vọng cho 50 tri...</td>\n",
       "    </tr>\n",
       "    <tr>\n",
       "      <th>391</th>\n",
       "      <td>Công Nghệ</td>\n",
       "      <td>Giáo Dục</td>\n",
       "      <td>Nền tảng IoT “Made in VNPT” mang lại sự khác b...</td>\n",
       "    </tr>\n",
       "    <tr>\n",
       "      <th>30</th>\n",
       "      <td>Thể Thao</td>\n",
       "      <td>Âm Nhạc</td>\n",
       "      <td>Mỹ nhân Canada giành HC vàng giải vô địch trượ...</td>\n",
       "    </tr>\n",
       "    <tr>\n",
       "      <th>231</th>\n",
       "      <td>Sức Khỏe</td>\n",
       "      <td>Giáo Dục</td>\n",
       "      <td>Hàng nghìn thi thể hiến tặng bị bỏ mặc\\nTrung ...</td>\n",
       "    </tr>\n",
       "    <tr>\n",
       "      <th>14</th>\n",
       "      <td>Thể Thao</td>\n",
       "      <td>Sức Khỏe</td>\n",
       "      <td>Trò tiểu xảo trong quần vợt chuyên nghiệp\\nThờ...</td>\n",
       "    </tr>\n",
       "  </tbody>\n",
       "</table>\n",
       "</div>"
      ],
      "text/plain": [
       "        y_true     y_pred                                   Nội dung bài báo\n",
       "155   Giáo Dục  Công Nghệ  Thay đổi hệ thống chứng chỉ CISCO từ tháng 2/2...\n",
       "118   Giáo Dục   Thể Thao  Bộ Giáo dục thanh tra công tác tuyển sinh của ...\n",
       "327  Công Nghệ   Sức Khỏe  Hệ thống AI này sẽ mang lại hy vọng cho 50 tri...\n",
       "391  Công Nghệ   Giáo Dục  Nền tảng IoT “Made in VNPT” mang lại sự khác b...\n",
       "30    Thể Thao    Âm Nhạc  Mỹ nhân Canada giành HC vàng giải vô địch trượ...\n",
       "231   Sức Khỏe   Giáo Dục  Hàng nghìn thi thể hiến tặng bị bỏ mặc\\nTrung ...\n",
       "14    Thể Thao   Sức Khỏe  Trò tiểu xảo trong quần vợt chuyên nghiệp\\nThờ..."
      ]
     },
     "execution_count": 34,
     "metadata": {},
     "output_type": "execute_result"
    }
   ],
   "source": [
    "diff_df = pd.DataFrame({\n",
    "    'y_true':y_test, \n",
    "    'y_pred':y_pred,\n",
    "    'Nội dung bài báo':X_test,\n",
    "})\n",
    "diff_df = diff_df.loc[diff_df['y_true'] != diff_df['y_pred']]\n",
    "diff_df"
   ]
  },
  {
   "cell_type": "code",
   "execution_count": 35,
   "metadata": {
    "scrolled": true
   },
   "outputs": [
    {
     "name": "stdout",
     "output_type": "stream",
     "text": [
      "################################################################################\n",
      "                     Thực tế: Giáo Dục . Phân loại: Công Nghệ\n",
      "\n",
      "Thay đổi hệ thống chứng chỉ CISCO từ tháng 2/2020\n",
      "Hệ thống chứng chỉ CISCO được coi là tiêu chuẩn đánh giá nhân sự doanh nghiệp trên toàn thế giới về lĩnh vực máy tính, bảo mật. Ngày 24/02/2020 sẽ là ngày cuối cùng CISCO sử dụng hệ thống chứng chỉ cũ.\n",
      "Chia sẻ tại Hội thảo Những thay đổi trong hệ thống chứng chỉ mới của CISCO do Học Viện Công Nghệ Thông Tin Bách Khoa tổ chức ngày 30/11, bà Trần Thị Thanh Nga – Giám đốc chương trình Học viện mạng CISCO tại Việt Nam khuyến cáo, các ứng viên không cần lo lắng về độ khó của các bài thi tới đây.\n",
      "Ngày 24/02/2020 sẽ là ngày cuối cùng CISCO sử dụng hệ thống chứng chỉ cũ.\n",
      "“Hệ thống chứng chỉ của CISCO hiện tại áp dụng với rất nhiều lĩnh vực khác nhau. Nhưng hệ thống này sẽ chỉ còn áp dụng đến hết ngày 24/2/2020 và tới đây sẽ đào tạo, tổ chức thi một chương trình CCNA duy nhất là 200-301.\n",
      "Chương trình CCNA 200-301 này sẽ bao gồm kiến thức của mạng, bảo mật, tự động hóa, lập trình và được thiết kế để người học có thể thích ứng với môi trường công nghệ thông tin cực kỳ phát triển như hiện nay.\n",
      "Tương tự, ở cấp độ cao hơn là CCNP và CCIE cũng có những thay đổi so với hệ thống cũ. Tuy nhiên, ứng viên không nên hoang mang vì cấu trúc bài thi vẫn sẽ giữ nguyên, không thay đổi mức độ khó, dễ”.\n",
      "Việc có các chứng chỉ quốc tế của CISCO như CCNA, CCNP, CCIE sẽ là “tấm vé thông hành” giúp các ứng viên trong ngành Công nghệ thông tin thuận lợi khi ứng tuyển vào các doanh nghiệp vừa và lớn. Người dành chứng chỉ CCIE được giới công nghệ thông tin đánh giá cao, xem như đạt trình độ “tiến sĩ CISCO” và nhận được mức lương hậu hĩnh.\n",
      "\n",
      "################################################################################\n",
      "                     Thực tế: Giáo Dục . Phân loại: Thể Thao\n",
      "\n",
      "Bộ Giáo dục thanh tra công tác tuyển sinh của 4 trường đại học\n",
      "Bộ Giáo dục và Đào tạo sẽ tổ chức thanh tra công tác tuyển sinh của bốn trường: Đại học Nội vụ Hà Nội, Đại học Bạc Liêu, Đại học Nông lâm và Đại học Hùng Vương Thành phố Hồ Chí Minh.\n",
      "Chánh Thanh tra Bộ Giáo dục và Đào tạo Nguyễn Huy Bằng vừa ký quyết định số 130/QĐ-TTr về việc thanh tra công tác tuyển sinh đại học năm 2019.\n",
      "Theo đó, Thanh tra Bộ Giáo dục và Đào tạo sẽ tiến hành thanh tra 4 trường đại học, gồm Đại học Nội vụ Hà Nội, Đại học Lâm nghiệp, Đại học Hùng Vương Thành phố Hồ Chí Minh và Trường Đại học Bạc Liêu.\n",
      "Nội dung thanh tra tập trung vào việc xây dựng và công khai Đề án tuyển sinh của trường; việc xác định chỉ tiêu tuyển sinh; việc tổ chức tuyển sinh. Thời gian thanh tra kéo dài 30 ngày kể từ ngày công bố Quyết định thanh tra. Đoàn thanh tra sẽ tiến hành thanh tra bắt đầu từ ngày 1/8/2019.\n",
      "Đây là những trường có điểm nhận hồ sơ xét tuyển tương đối thấp. Đại học Nội vụ Hà Nội công bố điểm sàn xét tuyển cho phân hiệu Quảng Nam và Thành phố Hồ Chí Minh chỉ từ 12 điểm. Điểm sàn của Đại học Lâm nghiệp có nhiều ngành chỉ từ 13 điểm.\n",
      "Tại Đại học Bạc Liêu, trừ nhóm ngành sư phạm phải theo điểm sàn do Bộ Giáo dục và Đào tạo quy định, các ngành học khác của trường đều có điểm sàn là 13 điểm, riêng hai ngành Chăn nuôi và Bảo vệ thực vật có điểm sàn 12 điểm. Mức điểm này đã bao gồm cả điểm ưu tiên đối tượng và ưu tiên khu vực.\n",
      "Theo đó, thí sinh chỉ cần đạt hơn 3 điểm/môn là đủ điều kiện để nộp hồ sơ xét tuyển vào trường. Điều này khiến nhiều người lo ngại về chất lượng đào tạo của các trường.\n",
      "\n",
      "################################################################################\n",
      "                     Thực tế: Công Nghệ . Phân loại: Sức Khỏe\n",
      "\n",
      "Hệ thống AI này sẽ mang lại hy vọng cho 50 triệu bệnh nhân trên toàn thế giới\n",
      "Hai nhà nghiên cứu của Đại học Louisiana (Mỹ) đã phát triển thành công hệ thống trí tuệ nhân tạo có thể dự đoán bệnh động kinh chính xác tới 99,6%.\n",
      "Hệ thống AI của giáo sư Magdy Bayoumi và nhà nghiên cứu Hisham Daoud có thể đưa ra dự đoán chính xác về cơn động kinh. Hệ thống sẽ phân tích hoạt động não bộ trước, trong và sau động kinh, từ đó đưa ra biểu đồ dự báo chính xác.\n",
      "Nghiên cứu này có tầm ảnh hưởng rộng lớn. Hiện thế giới đang có khoảng 50 triệu bệnh nhân mắc chứng bệnh này. Nếu thành công, hệ thống AI của Magdy Bayoumi và Hisham Daoud sẽ là giải pháp cứu cánh.\n",
      "Hiện nhóm nghiên cứu đang tập trung phát triển phần cứng và chipset phù hợp để có thể triển khai toàn diện hệ thống AI. Rất có thể hệ thống này sẽ có kích thước nhỏ gọn như Apple Watch để tiện sử dụng cho bệnh nhân.\n",
      "Tổ chức WHO ước tính cứ 1.000 người lại có 4-10 người mắc chứng liên quan tới động kinh. Theo các nghiên cứu, 70% người mắc chứng động kinh có thể chữa khỏi nếu phát hiện kịp thời.\n",
      "\n",
      "\n",
      "################################################################################\n",
      "                     Thực tế: Công Nghệ . Phân loại: Giáo Dục\n",
      "\n",
      "Nền tảng IoT “Made in VNPT” mang lại sự khác biệt, hiệu quả\n",
      "Tuân thủ tiêu chuẩn an ninh nghiêm ngặt nhất\n",
      "Theo chiến lược phát triển, VNPT sẽ chuyển đổi dần từ một nhà cung cấp dịch vụ viễn thông truyền thống sang một nhà cung cấp dịch vụ số, hướng tới trở thành nhà cung cấp dịch vụ số hàng đầu tại Việt Nam và Trung tâm giao dịch số của khu vực Châu Á. Nên ngay từ những ngày đầu, VNPT đã xác định phải tự đầu tư xây dựng một nền tảng tổng thể để làm chủ được các  công nghệ cốt lõi. Nền tảng IoT - Smart Connected Platform (SCP) của VNPT đã được chính các kỹ sư của VNPT nghiên cứu và phát triển từ những ý tưởng độc đáo như thế.\n",
      "SCP được xây dựng đầu tiên trong lộ trình chuẩn bị từ năm 2017, mục đích giúp vạn vật kết nối với nhau tạo nền tảng cho các nhà phát triển tập trung xây dựng ứng dụng IoT. Kế đó, tạo hệ sinh thái thiết bị, nền tảng và ứng dụng IoT đa thiết bị. Và hạ tầng nền tảng đó chứa 6 đặc điểm cốt lõi: kết nối, thu thập, quản lý, kiểm soát, xây dựng và phân phối.\n",
      "Nói một cách đơn giản hơn, SCP là nền tảng IoT mở, tất cả các nhà phát triển có thể tham gia để xây dựng ứng dụng của riêng mình. SCP ứng dụng nhiều công nghệ hiện đại bao gồm điện toán đám mây, công nghệ điện toán biên, công nghệ dữ liệu lớn HADOOP, Middlewares, OTA, Messagebroker và tuân thủ các tiêu chuẩn an toàn thông tin nghiêm ngặt nhất. Đáng chú ý, SCP hỗ trợ kết nối mọi vật trên mọi hạ tầng công nghệ mạng, từ các công nghệ kết nối tầm gần như USB, Modbus, RS, Bluetooth, NFC, Zigbee… cho tới các công nghệ kết nối tầm xa như 3G/4G, FTTx, hay các công nghệ dành riêng cho IoT như LoRa, SigFox, NB-IoT…\n",
      "Nền tảng công nghệ hoàn toàn mở\n",
      "Dựa trên nền tảng SCP của VNPT, các nhà phát triển hoàn toàn làm chủ được công nghệ trong kết nối, thu thập, quản lý, xây dựng và phân phối ứng dụng, thiết bị IoT, tài nguyên mạng Internet một cách nhanh chóng, hiệu quả và tiết kiệm thời gian, chi phí. SCP cung cấp nhiều mô hình triển khai khác nhau như: SaaS, IaaS, PaaS, đóng gói tổng thể… đáp ứng tất cả nhu cầu triển khai thực tế của các nhà phát triển ứng dụng. Nhờ vậy, nhà phát triển chỉ cần tập trung vào chọn thiết bị phù hợp và xây dựng giải pháp để đáp ứng nhu cầu người dùng. SCP sẽ giúp thực hiện quy trình xử lý hai chiều cũng như đảm bảo hiệu năng, tốc độ cho ứng dụng.\n",
      "Đến nay, SCP đã được VNPT sử dụng để phát triển ứng dụng IoT trong nhiều lĩnh vực khác nhau để phục vụ nhu cầu khách hàng. Trong đó nổi bật là các ứng dụng thông minh như: Giao thông, Du lịch, nông nghiệp … Các giải pháp này đang được nhiều tỉnh thành trên cả nước tin tưởng sử dụng. Hiện VNPT đã xây dựng thành công hơn 28 thành phố thông minh. Triển khai nhiều dự án nông nghiệp thông minh như  Khu LAB nông nghiệp thông minh Hòa Lạc, quan trắc môi trường tại Phú Quốc. VNPT cũng đã hợp tác chiến lược VT- CNTT với hầu khắp các tỉnh/thành phố trên cả nước ở các lĩnh vực chủ chốt: Chính quyền điện tử, An ninh, Giáo dục, Y tế, Du lịch, Nông nghiệp, Giao thông... \n",
      "Sẵn sàng hòa vào dòng chảy đa kết nối\n",
      "Mang trên mình sứ mệnh kết nối vạn vật lên Internet, nền tảng IoT Platform- SCP của VNPT giúp mọi kết nối lên nền tảng, toàn bộ dữ liệu của thiết bị sẽ được thu thập theo thời gian thực, khoảng thời gian, theo chu kỳ… SCP sẽ quản lý tập trung thông qua tài khoản quản trị duy nhất, cũng có thể từ một ứng dụng IoT đã xây dựng riêng.Việc quản lý tập trung sẽ mang tới khả năng thống nhất về dữ liệu toàn hệ thống, từ đó đưa đến những phân tích và dự tính tốt nhất cho kế hoạch trong tương lai.\n",
      "Với những ưu điểm nổi bật nói trên, ngay trong lần đầu tiên gửi sản phẩm dự thi hệ thống giải thưởng thường niên uy tín nhất toàn cầu dành cho cộng đồng doanh nghiệp thuộc 22 quốc gia khu vực Châu Á, Thái Bình Dương - Stevie Award 2018, vượt qua nhiều đối thủ tên tuổi trong ngành công nghệ khu vực như: M800 Limited - Hồng Kông, Telkom - Indonesia, MATRIXX Software - Hoa Kỳ,  Ooredoo - Myanmar… nền tảng IoT Platform- SCP VNPT đã giành Cúp Vàng ở hạng mục Đổi mới sáng tạo trong Phát triển công nghệ thuộc lĩnh vực Công nghiệp viễn thông.\n",
      "Mới đây, tại Hội thảo và Triển lãm quốc tế về IoT và Bảo mật thông tin năm 2019, đại diện VNPT đã có tham luận về nỗ lực và những kết quả tích cực của Tập đoàn VNPT trong nghiên cứu, ứng dụng mạnh mẽ CNTT vào triển khai cung cấp các dịch vụ IoT cũng như dịch vụ đảm bảo an toàn mạng, an toàn thông tin phục vụ cho các đối tượng khách hàng. Tại sự kiện này, hàng trăm đại biểu, quan khách đã quan tâm và đặt các câu hỏi  về các sản phẩm - dịch vụ và giải pháp CNTT của Tập đoàn VNPT.\n",
      "Hơn hết, với hạ tầng mạng băng rộng VNPT Wifi FTTx (băng thông 20-100Mbps) đến tận nhà thuê bao tại 63 tỉnh/thành, phủ đến 98% số xã trên cả nước cùng mạng lưới di động NB-IoT 80.000 trạm phát sóng, 2G/3G/4G phủ sóng 63/63 tỉnh thành cả nước, roaming đến hơn 400 nhà cung cấp dịch vụ thuộc 160 quốc gia trên thế giới, thế giới vạn vật IoT VNPT luôn sẵn sàng hòa mình vào dòng chảy kỷ nguyên đa kết nối.\n",
      "Đang từng bước chuyển đổi thành Nhà cung cấp dịch vụ số (DSP), chú trọng phát triển những sản phẩm, dịch vụ, giải pháp ICT sáng tạo, đột phá để tiếp tục đóng góp vào sự phát triển vững mạnh của nền kinh tế Việt Nam, VNPT đã và đang xây dựng nền tảng IoT SCP của riêng mình để hoàn toàn làm chủ công nghệ, hướng đến trở thành nhà cung cấp dịch vụ số hàng đầu Việt Nam vào năm 2025 và Trung tâm số (Digital Hub) của châu Á vào năm 2030.\n",
      "\n",
      "\n",
      "\n",
      "################################################################################\n",
      "                     Thực tế: Thể Thao . Phân loại: Âm Nhạc\n",
      "\n",
      "Mỹ nhân Canada giành HC vàng giải vô địch trượt băng nghệ thuật thế giới \n",
      "Với phần trình diễn xuất sắc, Kaetlyn Osmond đã chấm dứt cơn khát vàng của Canada ở nội dung nữ giải vô địch trượt băng nghệ thuật thế giới suốt từ năm 1973. \n",
      "Giải vô địch trượt băng nghệ thuật thế giới 2018 đang diễn ra tại Milan và trong ngày thi đấu hôm thứ Sáu (giờ địa phương), Kaetlyn Osmond - nữ vận động viên xinh đẹp người Canada giành HC đồng ở Olympic mùa đông 2018 - đã có cuộc bứt phá ngoạn mục. \n",
      "Trên nền nhạc của bản giao hưởng Black Swan của nhà soạn nhạc Tchaikovsky, Osmond có phần trình diễn hoàn hảo, đạt tổng điểm 223,23 để giành HC vàng. Kể từ tấm HC vàng của Karen Magnussen năm 1973, đây là lần đầu tiên một vận động viên nữ của Canada vô địch nội dung nữ ở giải trượt băng nghệ thuật thế giới. \n",
      "Với 210,90 điểm, vận động viên Wakaba Higuchi người Nhật Bản giành HC bạc. HC đồng thuộc về Satoko Miyahara (210,08 điểm), đồng hương của Higuchi. Vận động viên nước chủ nhà Caroline Cosner và nhà vô địch Olympic mùa đông 2018 Zagitova đều thi đấu không thành công. \n",
      "Đáng tiếc nhất là màn trình diễn của Zagitova, vận động viên 15 tuổi người Nga té ngã 3 lần trong phần thi, bị đẩy xuống thứ 5 chung cuộc. Zagitova đã không thể giành cú ăn 4 mùa này sau khi đã vô địch ISU Grand Prix Final, vô địch châu u và mới đây là vô địch Olympic mùa đông 2018. \n",
      "Bên cạnh đó, Zagitova cũng bỏ lỡ cơ hội đi vào lịch sử trở thành người trẻ nhất đoạt HC vàng Olympic và thế giới ngay trong mùa đầu tiên tranh tài với những người đàn chị ở các giải đấu chuyên nghiệp. \n",
      "Nhà vô địch Kaetlyn Osmond sinh ngày 5/12/1995 tại Marystown, Newfoundland, Canada. Osmond bén duyên với trượt băng nghệ thuật từ năm 3 tuổi khi theo chị gái Natasha tới sàn tập. \n",
      "Osmond là vận động viên Canada thứ 6 giành huy chương ở giải thế giới và là người đầu tiên giành HC vàng kể từ năm 1973 sau thành tích của Karen Magnussen. Ở Olympic mùa đông 2018, Osmond là thành viên giúp Canada giành HC vàng đồng đội. Còn ở nội dung đơn nữ, mỹ nhân 23 tuổi đoạt HC đồng. \n",
      "\n",
      "################################################################################\n",
      "                     Thực tế: Sức Khỏe . Phân loại: Giáo Dục\n",
      "\n",
      "Hàng nghìn thi thể hiến tặng bị bỏ mặc\n",
      "Trung tâm Hiến tạng Đại học Paris-Descartes phải đóng cửa vì bỏ mặc hàng nghìn thi thể hiến tặng trong tình trạng tồi tệ. \n",
      "Điều tra của tờ L'Express công bố vài ngày trước, cho thấy thay vì được sử dụng cho mục đích nghiên cứu khoa học, thi thể của người hiến tạng không được bảo quản và trong tình trạng thối rữa, mất vệ sinh một thời gian dài. Một số bị chuột gặm nhấm. Số khác bị phân hủy nặng nề đến mức không thể sử dụng cho nghiên cứu, cần được thiêu hủy ngay lập tức. Hầu hết thi thể được hiến trong vòng 10 năm qua. \n",
      "Các điều tra viên gọi đây là \"một ngôi mộ tập thể giữa lòng Paris\". Trung tâm cũng bị cáo buộc rao bán một số bộ phận cơ thể người cho các công ty tư nhân \"với mục đích phi đạo đức như kiểm tra tai nạn xe hơi\". Toàn bộ cơ thể được bán với giá 900 USD, chỉ chân hoặc tay người hiến tạng có giá 400 USD. \n",
      "Trường Đại học Paris-Descartes thừa nhận đây là hành vi \"không tôn trọng nhân phẩm\" và gửi lời xin lỗi tới gia đình của những người hiến tạng. \n",
      "Liên minh Y học Tự do Pháp cho biết sẽ nộp đơn khiếu nại về vụ việc. \n",
      "Theo thông tin từ Đại học Paris-Descartes, cơ sở này sẽ được đóng cửa cho đến khi Bộ Giáo dục, Nghiên cứu và Đổi mới Pháp tiến hành điều tra. \n",
      "\n",
      "################################################################################\n",
      "                     Thực tế: Thể Thao . Phân loại: Sức Khỏe\n",
      "\n",
      "Trò tiểu xảo trong quần vợt chuyên nghiệp\n",
      "Thời gian nghỉ giải lao trong các trận đấu quần vợt đang bị lạm dụng với nhiều mục đích khác nhau.\n",
      "Quần vợt được biết đến là một môn thể thao tốc độ, thể hiện qua những cú bứt tốc lên lưới hay các tình huống xoay chuyển cục diện. Nhưng hiện tại, tốc độ ngày một chậm lại bởi những nhu cầu cơ bản nhất của con người: thời gian nghỉ vào phòng vệ sinh.\n",
      "Với những trận đấu kéo dài hơn một tiếng rưỡi, đôi khi các tay vợt cần đến điều đó, nhưng nếu tần suất quá nhiều sẽ phá vỡ đi sự hấp dẫn cũng như giảm đi sự hưng phấn của người chơi, khán giả trên sân và cả người xem truyền hình trực tiếp.\n",
      "Tại vòng đầu tiên Mỹ Mở rộng 2019, Stefanos Tsitsipas đã rời sân vào phòng vệ sinh ở giữa set 3 trong trận đấu kéo dài xấp xỉ bốn tiếng. Trong lúc tay vợt Hy Lạp vào trong thì trên sân, đối thủ Andrey Rublev đi đi lại lại dưới vạch cuối sân với vẻ bồn chồn. Mất đến sáu phút thì trận đấu mới có thể tiếp tục.\n",
      "Cũng ở trận đầu tiên tại New York, Coco Gauff  và Anastasia Potapova đã phải vào phòng vệ sinh trong khoảng hai phút trước khi cùng nhau bước vào set 3.\n",
      "Hai tuần trước Mỹ Mở rộng, trong một trận đấu tại Cincinnati Masters, Nick Kyrgios đã rời sân vào phòng vệ sinh sau khi bị trọng tài phạt do hành vi tranh cãi và chửi bới. Nhân viên của ban tổ chức giải (quy định bắt buộc phải đi theo) đã chứng kiến tay vợt người Australia đập gãy hai cây vợt trong hành lang rồi quay trở lại ngay mà không hề bước chân vào phòng vệ sinh.\n",
      "Những trò tiểu xảo làm chậm trễ các game đấu đã không còn mới, nhưng dường như chúng đã trở nên tệ hơn. Để hạn chế sự lạm dụng điều đó một cách trắng trợn, ở mùa giải 2019, Hiệp hội quần vợt nữ thế giới WTA đã giảm số lần cho phép đi giải lao từ hai xuống còn một lần.\n",
      "Tay vợt có thể sử dụng thời gian nghỉ đó để vào phòng vệ sinh hoặc thay trang phục và chúng chỉ được phép diễn ra sau khi set đấu kết thúc. Còn lại trong các trường hợp khẩn cấp khác thì phải được trọng tài đồng ý. Và nếu xảy ra giữa một set đấu thì tay vợt phải thực hiện việc đó trước game giao bóng của mình.\n",
      "Nhưng, trong khi các quy định nghiêm ngặt về thời gian nghỉ cho phép thì đang thiếu hình phạt dành cho tay vợt nào vi phạm như không sử dụng thời gian đó đúng mục đích. Trọng tài dây và các nhân viên khác chỉ đi theo người chơi mà không hề giám sát. Thậm chí, cũng không có giới hạn cho thời gian vào phòng vệ sinh, trong khi lại có quy định tối đa năm phút trong trường hợp chấn thương. Đó cũng bởi không có sự thống nhất về khoảng cách từ sân thi đấu đến phòng vệ sinh bao xa.\n",
      "\"Quy tắc này được đặt ra để phù hợp với nhu cầu của các tay vợt. Nó không mang ý nghĩa chiến thuật hay tác động nào hết. Chúng tôi sẽ không đưa người chơi vào tình trạng cảm thấy không thoải mái. Vấn đề giới tính là rất nhạy cảm\", Chủ tịch WTA - Steve Simon - chia sẻ. Tuy vậy, ông Simon cũng thừa nhận rằng, những khoảng thời gian nghỉ giải lao đang gây ra sự chậm trễ quá mức và điều này khiến người xem phải chịu đựng trong trạng thái tâm lý dần mất kiên nhẫn.\n",
      "Các trận đấu của quần vợt nam cũng tuân theo mô hình tương tự. Do thi đấu trong thời gian ngắn hơn vì tối đa chỉ chơi ba set nên các tay vợt nữ có một lần nghỉ. Trong khi đó, các tay vợt nam cần đến ba set thắng nếu chơi ở giải Grand Slam, cho nên họ có hai lần nghỉ trong một trận đấu dài năm set.\n",
      "Nhưng quy định trên lại không được chấp hành ở những giải đấu cấp độ thấp hơn WTA và ATP. Tại một giải chuyên nghiệp ở Lexington tuần trước, Yuxuan Zhang sau khi thua set 1 chóng vánh với tỷ số 1-6 sau 24 phút, đã bỏ vào phòng vệ sinh gần 10 phút - trong khi thời gian đổi sân chỉ được phép hai phút. Zhang đã đưa ra lý do phòng vệ sinh ở quá xa sân đấu. 33 phút sau đó, tay vợt ngoài top 200 thế giới này thua trắng set 2 với tỷ số 0-6.\n",
      "Hai ví dụ tương tự cũng thấy ở Verena Meliss và Emily Webley-Smith. Không một tay vợt nào thắng set đầu tiên lại bỏ ra ngoài sân như các trường hợp trên. Cứ cho là thời tiết nắng nóng ở Kentucky khi đó làm cho các tay vợt cần phải vào phòng vệ sinh để thay bộ quần áo ướt đẫm mồ hôi, nhưng thực tế là họ mới ở trên sân chưa đến nửa tiếng.\n",
      "\"Tôi từng nói với các tay vợt của mình rằng nếu thua trắng 0-6 set đầu tiên thì nên vào phòng vệ sinh rửa qua mặt và ngồi tĩnh tâm trong đó khoảng vài phút trước khi quay trở lại sân. Đó là cách tốt nhất để lấy lại thăng bằng và khiến đối thủ giảm hưng phấn\", cựu tay vợt người Australia - Joseph Sirianni nói.\n",
      "Một nhân viên ban tổ chức tiết lộ, anh thường rời sân trong các trận đấu ở giải trẻ để vào phòng vệ sinh nhắn tin. Anh đã thấy cảnh một tay vợt được người thân đưa cho quả chuối và khi bóc ra sẽ có mảnh giấy của HLV với vài lời khuyên. Tất cả những hành vi đó đều bị cấm hoàn toàn ở các giải đấu cấp độ chuyên nghiệp.\n",
      "Yanina Wickmayer, tay vợt nữ người Bỉ từng vào đến bán kết Mỹ Mở rộng 2009 cho biết, lợi dụng thời gian tạm nghỉ là một mánh khóe của người chơi. \"Tôi không bao giờ vào phòng vệ sinh trong một trận đấu. Đôi khi tôi cần ra khỏi sân để bình tâm tĩnh trí trở lại. Nó giống như một cuộc gọi cho bác sỹ trong khi không hề bị chấn thương nào hết. Chúng tôi cần phải làm bất cứ điều gì để giành chiến thắng\", Wickmayer tiết lộ.\n",
      "Không phải ai cũng thích chuyện này. Cựu tay vợt số một thế giới Karolina Pliskova cho hay: \"Tôi cảm thấy mình như chỉ muốn được chơi. Tôi biết có một số người lợi dụng thời gian nghỉ đó cho những mục đích khác nhằm thay đổi tình thế. Nếu tôi làm điều này thường xuyên, có lẽ tôi đã thắng nhiều trận hơn\", cựu á quân Mỹ Mở rộng 2016 chia sẻ.\n",
      "Nhớ lại giải đấu đã đoạt Grand Slam đầu tiên cách đây hai năm, Sloane Stephens cho biết, có một vài đối thủ liên tục xin thời gian chăm sóc y tế hoặc vào phòng vệ sinh. \"Tôi đã chứng kiến, một số tay vợt không hề bị bệnh hay cần phải vào phòng vệ sinh nhiều lần đến như vậy. Thật không hiểu sao, họ lại làm thế\".\n",
      "\n",
      "\n",
      "\n"
     ]
    }
   ],
   "source": [
    "for new_index in diff_df.index:\n",
    "    print(\"#\"*80)\n",
    "    print(' '*20,'Thực tế:',diff_df.loc[new_index,'y_true'],'. Phân loại:',diff_df.loc[new_index,'y_pred'])\n",
    "    print('')\n",
    "    print(X_test[new_index])\n",
    "    print('')"
   ]
  },
  {
   "cell_type": "markdown",
   "metadata": {},
   "source": [
    "**Nhận xét**: Ta thấy trong danh sách những bài báo bị phân loại sai, có trường hợp bị nhầm giống Naive Bayes. Ngoài ra, ở những bài báo khác, ta thấy đa phần nội dung chủ đề khá rõ ràng nhưng có đan xen từ khóa của những chủ đề khác nên bị phân loại sai."
   ]
  },
  {
   "cell_type": "markdown",
   "metadata": {},
   "source": [
    "## 4.3. Neural Network"
   ]
  },
  {
   "cell_type": "markdown",
   "metadata": {},
   "source": [
    "Biến đổi dữ liệu từ dạng chữ về dạng số rồi one_hot_encode"
   ]
  },
  {
   "cell_type": "code",
   "execution_count": 36,
   "metadata": {},
   "outputs": [
    {
     "data": {
      "text/plain": [
       "array([[0., 0., 0., 1., 0.],\n",
       "       [0., 0., 0., 1., 0.],\n",
       "       [0., 1., 0., 0., 0.],\n",
       "       ...,\n",
       "       [0., 0., 0., 1., 0.],\n",
       "       [0., 0., 1., 0., 0.],\n",
       "       [0., 0., 1., 0., 0.]], dtype=float32)"
      ]
     },
     "execution_count": 36,
     "metadata": {},
     "output_type": "execute_result"
    }
   ],
   "source": [
    "le = LabelEncoder()\n",
    "y_train_cate = le.fit_transform(y_train)\n",
    "\n",
    "y_train_cate = tf.keras.utils.to_categorical(\n",
    "    y_train_cate,\n",
    "    num_classes=None,\n",
    "    dtype='float32'\n",
    ")\n",
    "\n",
    "y_pred_cate = tf.keras.utils.to_categorical(\n",
    "    le.transform(y_pred),\n",
    "    num_classes=None,\n",
    "    dtype='float32'\n",
    ")\n",
    "\n",
    "y_train_cate"
   ]
  },
  {
   "cell_type": "markdown",
   "metadata": {},
   "source": [
    "### 4.3.1. Xây dựng mô hình"
   ]
  },
  {
   "cell_type": "markdown",
   "metadata": {},
   "source": [
    "`input_dim` sẽ bằng số  features.\n",
    "Vì đây là bài toán phân loại nhiều class, ta sử dụng lớp cuối bằng số class, activation layer là softmax"
   ]
  },
  {
   "cell_type": "code",
   "execution_count": 37,
   "metadata": {},
   "outputs": [],
   "source": [
    "model = Sequential()\n",
    "model.add(Dense(16, input_dim=X_train_tr.shape[1], activation='relu'))\n",
    "model.add(Dense(8, activation='relu'))\n",
    "model.add(Dense(5, activation='softmax'))"
   ]
  },
  {
   "cell_type": "code",
   "execution_count": 38,
   "metadata": {},
   "outputs": [],
   "source": [
    "model.compile(\n",
    "    loss='binary_crossentropy',\n",
    "    optimizer='adam', \n",
    "    metrics=['accuracy']\n",
    ")"
   ]
  },
  {
   "cell_type": "code",
   "execution_count": 39,
   "metadata": {
    "scrolled": true
   },
   "outputs": [
    {
     "name": "stdout",
     "output_type": "stream",
     "text": [
      "Epoch 1/35\n",
      "350/350 [==============================] - 1s 3ms/step - loss: 0.4974 - acc: 0.8000\n",
      "Epoch 2/35\n",
      "350/350 [==============================] - 0s 298us/step - loss: 0.4727 - acc: 0.8000\n",
      "Epoch 3/35\n",
      "350/350 [==============================] - 0s 336us/step - loss: 0.4217 - acc: 0.8011\n",
      "Epoch 4/35\n",
      "350/350 [==============================] - 0s 342us/step - loss: 0.3463 - acc: 0.8229\n",
      "Epoch 5/35\n",
      "350/350 [==============================] - 0s 341us/step - loss: 0.2588 - acc: 0.8714\n",
      "Epoch 6/35\n",
      "350/350 [==============================] - 0s 322us/step - loss: 0.1772 - acc: 0.9686\n",
      "Epoch 7/35\n",
      "350/350 [==============================] - 0s 342us/step - loss: 0.1137 - acc: 0.9983\n",
      "Epoch 8/35\n",
      "350/350 [==============================] - 0s 353us/step - loss: 0.0713 - acc: 1.0000\n",
      "Epoch 9/35\n",
      "350/350 [==============================] - 0s 357us/step - loss: 0.0460 - acc: 1.0000\n",
      "Epoch 10/35\n",
      "350/350 [==============================] - 0s 351us/step - loss: 0.0313 - acc: 1.0000\n",
      "Epoch 11/35\n",
      "350/350 [==============================] - 0s 342us/step - loss: 0.0224 - acc: 1.0000\n",
      "Epoch 12/35\n",
      "350/350 [==============================] - 0s 358us/step - loss: 0.0166 - acc: 1.0000\n",
      "Epoch 13/35\n",
      "350/350 [==============================] - 0s 344us/step - loss: 0.0128 - acc: 1.0000\n",
      "Epoch 14/35\n",
      "350/350 [==============================] - 0s 348us/step - loss: 0.0102 - acc: 1.0000\n",
      "Epoch 15/35\n",
      "350/350 [==============================] - 0s 322us/step - loss: 0.0083 - acc: 1.0000\n",
      "Epoch 16/35\n",
      "350/350 [==============================] - 0s 346us/step - loss: 0.0069 - acc: 1.0000\n",
      "Epoch 17/35\n",
      "350/350 [==============================] - 0s 329us/step - loss: 0.0058 - acc: 1.0000\n",
      "Epoch 18/35\n",
      "350/350 [==============================] - 0s 302us/step - loss: 0.0050 - acc: 1.0000\n",
      "Epoch 19/35\n",
      "350/350 [==============================] - 0s 348us/step - loss: 0.0043 - acc: 1.0000\n",
      "Epoch 20/35\n",
      "350/350 [==============================] - 0s 345us/step - loss: 0.0037 - acc: 1.0000\n",
      "Epoch 21/35\n",
      "350/350 [==============================] - 0s 391us/step - loss: 0.0033 - acc: 1.0000\n",
      "Epoch 22/35\n",
      "350/350 [==============================] - 0s 299us/step - loss: 0.0029 - acc: 1.0000\n",
      "Epoch 23/35\n",
      "350/350 [==============================] - 0s 329us/step - loss: 0.0026 - acc: 1.0000\n",
      "Epoch 24/35\n",
      "350/350 [==============================] - 0s 339us/step - loss: 0.0023 - acc: 1.0000\n",
      "Epoch 25/35\n",
      "350/350 [==============================] - 0s 368us/step - loss: 0.0021 - acc: 1.0000\n",
      "Epoch 26/35\n",
      "350/350 [==============================] - 0s 406us/step - loss: 0.0019 - acc: 1.0000\n",
      "Epoch 27/35\n",
      "350/350 [==============================] - 0s 335us/step - loss: 0.0017 - acc: 1.0000\n",
      "Epoch 28/35\n",
      "350/350 [==============================] - 0s 355us/step - loss: 0.0016 - acc: 1.0000\n",
      "Epoch 29/35\n",
      "350/350 [==============================] - 0s 348us/step - loss: 0.0015 - acc: 1.0000\n",
      "Epoch 30/35\n",
      "350/350 [==============================] - 0s 331us/step - loss: 0.0014 - acc: 1.0000\n",
      "Epoch 31/35\n",
      "350/350 [==============================] - 0s 349us/step - loss: 0.0012 - acc: 1.0000\n",
      "Epoch 32/35\n",
      "350/350 [==============================] - 0s 382us/step - loss: 0.0012 - acc: 1.0000\n",
      "Epoch 33/35\n",
      "350/350 [==============================] - 0s 364us/step - loss: 0.0011 - acc: 1.0000\n",
      "Epoch 34/35\n",
      "350/350 [==============================] - 0s 366us/step - loss: 9.9993e-04 - acc: 1.0000\n",
      "Epoch 35/35\n",
      "350/350 [==============================] - 0s 372us/step - loss: 9.3292e-04 - acc: 1.0000\n"
     ]
    },
    {
     "data": {
      "text/plain": [
       "<keras.callbacks.History at 0x7fa01de0e610>"
      ]
     },
     "execution_count": 39,
     "metadata": {},
     "output_type": "execute_result"
    }
   ],
   "source": [
    "model.fit(X_train_tr, y_train_cate, epochs=35, batch_size=10)"
   ]
  },
  {
   "cell_type": "code",
   "execution_count": 40,
   "metadata": {},
   "outputs": [
    {
     "name": "stdout",
     "output_type": "stream",
     "text": [
      "Loss và accuracy trong tập test: 0.24399, 0.95\n"
     ]
    }
   ],
   "source": [
    "loss, acc = model.evaluate(X_test_tr, y_pred_cate, verbose=0)\n",
    "print(\"Loss và accuracy trong tập test: %.5f, %.2f\" %(loss, acc))"
   ]
  },
  {
   "cell_type": "markdown",
   "metadata": {},
   "source": [
    "Kết quả của mô hình sẽ ở dạng số. Ta dùng inverse_transform để đưa dạng số về tên class tương ứng."
   ]
  },
  {
   "cell_type": "code",
   "execution_count": 41,
   "metadata": {},
   "outputs": [
    {
     "data": {
      "text/plain": [
       "array(['Âm Nhạc', 'Thể Thao', 'Giáo Dục', 'Giáo Dục', 'Công Nghệ',\n",
       "       'Thể Thao', 'Âm Nhạc', 'Giáo Dục', 'Âm Nhạc', 'Sức Khỏe',\n",
       "       'Thể Thao', 'Âm Nhạc', 'Giáo Dục', 'Công Nghệ', 'Sức Khỏe',\n",
       "       'Công Nghệ', 'Giáo Dục', 'Thể Thao', 'Sức Khỏe', 'Âm Nhạc',\n",
       "       'Thể Thao', 'Giáo Dục', 'Công Nghệ', 'Công Nghệ', 'Thể Thao',\n",
       "       'Âm Nhạc', 'Âm Nhạc', 'Sức Khỏe', 'Sức Khỏe', 'Giáo Dục',\n",
       "       'Sức Khỏe', 'Thể Thao', 'Âm Nhạc', 'Công Nghệ', 'Thể Thao',\n",
       "       'Công Nghệ', 'Thể Thao', 'Sức Khỏe', 'Sức Khỏe', 'Giáo Dục',\n",
       "       'Sức Khỏe', 'Sức Khỏe', 'Âm Nhạc', 'Âm Nhạc', 'Giáo Dục',\n",
       "       'Công Nghệ', 'Giáo Dục', 'Sức Khỏe', 'Thể Thao', 'Thể Thao'],\n",
       "      dtype=object)"
      ]
     },
     "execution_count": 41,
     "metadata": {},
     "output_type": "execute_result"
    }
   ],
   "source": [
    "y_pred = model.predict_classes(X_test_tr)\n",
    "y_pred = le.inverse_transform(y_pred)\n",
    "y_pred"
   ]
  },
  {
   "cell_type": "markdown",
   "metadata": {},
   "source": [
    "### 4.3.2. Đánh giá mô hình"
   ]
  },
  {
   "cell_type": "code",
   "execution_count": 42,
   "metadata": {},
   "outputs": [
    {
     "name": "stdout",
     "output_type": "stream",
     "text": [
      "              precision    recall  f1-score   support\n",
      "\n",
      "   Công Nghệ       1.00      0.89      0.94         9\n",
      "    Giáo Dục       1.00      1.00      1.00        10\n",
      "    Sức Khỏe       0.91      1.00      0.95        10\n",
      "    Thể Thao       1.00      1.00      1.00        11\n",
      "     Âm Nhạc       1.00      1.00      1.00        10\n",
      "\n",
      "   micro avg       0.98      0.98      0.98        50\n",
      "   macro avg       0.98      0.98      0.98        50\n",
      "weighted avg       0.98      0.98      0.98        50\n",
      "\n"
     ]
    }
   ],
   "source": [
    "print(classification_report(\n",
    "    y_true = y_test,\n",
    "    y_pred = y_pred,\n",
    "))"
   ]
  },
  {
   "cell_type": "code",
   "execution_count": 43,
   "metadata": {},
   "outputs": [
    {
     "data": {
      "image/png": "[encoded data removed]",
      "text/plain": [
       "<Figure size 864x432 with 2 Axes>"
      ]
     },
     "metadata": {},
     "output_type": "display_data"
    }
   ],
   "source": [
    "plot_confusion_matrix(\n",
    "    y_true = y_test,\n",
    "    y_pred = y_pred,\n",
    ")"
   ]
  },
  {
   "cell_type": "code",
   "execution_count": 44,
   "metadata": {},
   "outputs": [
    {
     "data": {
      "text/html": [
       "<div>\n",
       "<style scoped>\n",
       "    .dataframe tbody tr th:only-of-type {\n",
       "        vertical-align: middle;\n",
       "    }\n",
       "\n",
       "    .dataframe tbody tr th {\n",
       "        vertical-align: top;\n",
       "    }\n",
       "\n",
       "    .dataframe thead th {\n",
       "        text-align: right;\n",
       "    }\n",
       "</style>\n",
       "<table border=\"1\" class=\"dataframe\">\n",
       "  <thead>\n",
       "    <tr style=\"text-align: right;\">\n",
       "      <th></th>\n",
       "      <th>y_true</th>\n",
       "      <th>y_pred</th>\n",
       "      <th>Nội dung bài báo</th>\n",
       "    </tr>\n",
       "  </thead>\n",
       "  <tbody>\n",
       "    <tr>\n",
       "      <th>327</th>\n",
       "      <td>Công Nghệ</td>\n",
       "      <td>Sức Khỏe</td>\n",
       "      <td>Hệ thống AI này sẽ mang lại hy vọng cho 50 tri...</td>\n",
       "    </tr>\n",
       "  </tbody>\n",
       "</table>\n",
       "</div>"
      ],
      "text/plain": [
       "        y_true    y_pred                                   Nội dung bài báo\n",
       "327  Công Nghệ  Sức Khỏe  Hệ thống AI này sẽ mang lại hy vọng cho 50 tri..."
      ]
     },
     "execution_count": 44,
     "metadata": {},
     "output_type": "execute_result"
    }
   ],
   "source": [
    "diff_df = pd.DataFrame({\n",
    "    'y_true':y_test, \n",
    "    'y_pred':y_pred,\n",
    "    'Nội dung bài báo':X_test,\n",
    "})\n",
    "diff_df = diff_df.loc[diff_df['y_true'] != diff_df['y_pred']]\n",
    "diff_df"
   ]
  },
  {
   "cell_type": "markdown",
   "metadata": {},
   "source": [
    "**Nhận xét**: Ta thấy mô hình Deep learning cũng gặp cùng vấn đề với mô hình Naive Bayes và Decision tree. Ta có thể tạm rút ra nhận xét rằng bài báo ở index 327 trên là một mẫu đặc biệt, khó phân loại."
   ]
  },
  {
   "cell_type": "markdown",
   "metadata": {},
   "source": [
    "## 4.4. Kết luận chung cho các mô hình"
   ]
  },
  {
   "cell_type": "markdown",
   "metadata": {},
   "source": [
    "Qua 3 mô hình trên, ta thấy Naive Bayes và Deep Learning cho kết quả rất sát nhau.\n",
    "Trong trường hợp này, ta ưu tiên mô hình Naive Bayes với những lý do sau:\n",
    "- Mô hình machine learning truyền thống thường đòi hỏi tính toán ít hơn mô hình deep learning\n",
    "- Tính giải thích của mô hình machine learning truyền thống cao hơn mô hình deep learning\n",
    "\n",
    "Do đó, ta lựa chọn Naive Bayes làm mô hình chính để giải quyết bài toán phân loại bài báo."
   ]
  },
  {
   "cell_type": "markdown",
   "metadata": {},
   "source": [
    "# 5.Lưu mô hình, bộ preprocessing và test hàm wrapper"
   ]
  },
  {
   "cell_type": "markdown",
   "metadata": {},
   "source": [
    "## 5.1. Lưu mô hình xuống file"
   ]
  },
  {
   "cell_type": "code",
   "execution_count": 45,
   "metadata": {},
   "outputs": [
    {
     "data": {
      "text/plain": [
       "['classifier.pkl']"
      ]
     },
     "execution_count": 45,
     "metadata": {},
     "output_type": "execute_result"
    }
   ],
   "source": [
    "joblib.dump(count_vect, 'count_vect.pkl') \n",
    "joblib.dump(trans_vect, 'trans_vect.pkl') \n",
    "joblib.dump(nb_clf,     'classifier.pkl') "
   ]
  },
  {
   "cell_type": "markdown",
   "metadata": {},
   "source": [
    "## 5.2. Tạo hàm wrapper"
   ]
  },
  {
   "cell_type": "markdown",
   "metadata": {},
   "source": [
    "Ta đọc lại các file đã lưu để đảm bảo việc load lên sau này không gặp vấn đề gì. Sau đó sử dụng trực tiếp những biến được đọc từ file để dùng trong hàm wrapper"
   ]
  },
  {
   "cell_type": "code",
   "execution_count": 46,
   "metadata": {},
   "outputs": [],
   "source": [
    "count_vect = joblib.load('count_vect.pkl') \n",
    "trans_vect = joblib.load('trans_vect.pkl') \n",
    "classifier = joblib.load('classifier.pkl') \n",
    "\n",
    "def classify_news(news):\n",
    "    \"\"\"\n",
    "    Nhận bài báo và trả về kết quả phân loại theo chủ đề\n",
    "    \n",
    "    params\n",
    "    ------\n",
    "    news: (str) Bài báo\n",
    "    \n",
    "    return\n",
    "    ------\n",
    "    type_pred: (str) Kết quả phân loại, là một trong 5 chủ đề: \n",
    "    \"Công Nghệ\", \"Giáo Dục\", \"Sức Khỏe\", \"Thể Thao\", \"Âm Nhạc\"\n",
    "    \"\"\"\n",
    "    news            = np.array([news])\n",
    "    news_tf_vect    = count_vect.transform(news)\n",
    "    news_tfidf_vect = trans_vect.transform(news_tf_vect).toarray()\n",
    "    type_preds      = classifier.predict(news_tfidf_vect)\n",
    "    type_pred       = type_preds[0]\n",
    "    return type_pred"
   ]
  },
  {
   "cell_type": "markdown",
   "metadata": {},
   "source": [
    "## 5.3. Kiểm tra hàm wrapper "
   ]
  },
  {
   "cell_type": "code",
   "execution_count": 47,
   "metadata": {},
   "outputs": [
    {
     "data": {
      "text/plain": [
       "'Thể Thao'"
      ]
     },
     "execution_count": 47,
     "metadata": {},
     "output_type": "execute_result"
    }
   ],
   "source": [
    "news = \"\"\"\n",
    "Tối ngày 11/12/2019, SEA Games 2019 chính thức bế mạc tại sân vận động Athletics Stadium, thành phố New Clark, \n",
    "Philippines, khép lại một mùa Đại hội đầy dấu ấn của thể thao Việt Nam.\n",
    "\n",
    "Chúng ta có quyền tự hào với thành tích đứng thứ 2 toàn đoàn, giành được 287 Huy chương: 98 Huy chương vàng, \n",
    "85 Huy chương bạc và 104 Huy chương đồng. Đặc biệt trong đó, đội tuyển bóng đá nam và bóng đá nữ cùng bước \n",
    "lên ngôi vương và ngôi hậu bóng đá Đông Nam Á là một dấu son độc nhất vô nhị trong lịch sử bóng đá Việt Nam \n",
    "từ trước tới giờ.\n",
    "\"\"\"\n",
    "\n",
    "classify_news(news)"
   ]
  }
 ],
 "metadata": {
  "kernelspec": {
   "display_name": "ds",
   "language": "python",
   "name": "ds"
  },
  "language_info": {
   "codemirror_mode": {
    "name": "ipython",
    "version": 3
   },
   "file_extension": ".py",
   "mimetype": "text/x-python",
   "name": "python",
   "nbconvert_exporter": "python",
   "pygments_lexer": "ipython3",
   "version": "3.7.5"
  }
 },
 "nbformat": 4,
 "nbformat_minor": 4
}
